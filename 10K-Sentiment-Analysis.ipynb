{
 "cells": [
  {
   "cell_type": "markdown",
   "metadata": {},
   "source": [
    "## I. Text Extraction and Cleaning"
   ]
  },
  {
   "cell_type": "markdown",
   "metadata": {},
   "source": [
    "####  Import libraries"
   ]
  },
  {
   "cell_type": "code",
   "execution_count": 1,
   "metadata": {},
   "outputs": [],
   "source": [
    "import pandas as pd\n",
    "import pdfkit\n",
    "import PyPDF2\n",
    "import re\n",
    "from nltk.tokenize import word_tokenize\n",
    "import spacy\n",
    "from string import punctuation\n",
    "from IPython.display import display_html "
   ]
  },
  {
   "cell_type": "markdown",
   "metadata": {},
   "source": [
    "### A) Creating the Dataset"
   ]
  },
  {
   "cell_type": "markdown",
   "metadata": {},
   "source": [
    "#### Compile all URLs"
   ]
  },
  {
   "cell_type": "code",
   "execution_count": 2,
   "metadata": {},
   "outputs": [],
   "source": [
    "base_url = 'http://www.sec.gov/Archives/edgar/data'\n",
    "cik_ls = ['0000078003', '1682852','200406','59478','0001551152']\n",
    "filings_num_ls = ['000007800322000027','000168285222000012','000020040622000022','000005947822000068',\n",
    "                  '000155115222000007']\n",
    "company_ls=[\"Pfizer Inc.\", \"Moderna, Inc.\", \"Johnson & Johnson\", \"Eli Lilly and Company\", \"AbbVie Inc.\"]\n",
    "ticker_ls =['pfe','mrna','jnj','lly','abbv']\n",
    "fye_ls = ['20221231','20221231','20230101','20221231','20221231']"
   ]
  },
  {
   "cell_type": "code",
   "execution_count": 3,
   "metadata": {
    "scrolled": true
   },
   "outputs": [
    {
     "data": {
      "text/plain": [
       "['https://www.sec.gov/Archives/edgar/data/78003/000007800323000024/pfe-20221231.htm',\n",
       " 'https://www.sec.gov/Archives/edgar/data/1682852/000168285223000011/mrna-20221231.htm',\n",
       " 'https://www.sec.gov/Archives/edgar/data/200406/000020040623000016/jnj-20230101.htm',\n",
       " 'https://www.sec.gov/Archives/edgar/data/59478/000005947823000082/lly-20221231.htm',\n",
       " 'https://www.sec.gov/Archives/edgar/data/1551152/000155115223000011/abbv-20221231.htm']"
      ]
     },
     "execution_count": 3,
     "metadata": {},
     "output_type": "execute_result"
    }
   ],
   "source": [
    "url_ls=[]\n",
    "for i in range(0,5):\n",
    "    url= base_url+'/'+cik_ls[i]+'/'+filings_num_ls[i]+'/'+ticker_ls[i]+'-'+fye_ls[i]+'.htm'\n",
    "    url_ls.append(url)\n",
    "url_ls"
   ]
  },
  {
   "cell_type": "markdown",
   "metadata": {},
   "source": [
    "#### Converting HTML to PDFs"
   ]
  },
  {
   "cell_type": "code",
   "execution_count": 4,
   "metadata": {},
   "outputs": [],
   "source": [
    "for i in range(0,5):\n",
    "    pdfkit.from_url(url_ls[i], ticker_ls[i]+'.pdf')"
   ]
  },
  {
   "cell_type": "markdown",
   "metadata": {},
   "source": [
    "#### Retrieve Items 1A and 7 from all PDFs"
   ]
  },
  {
   "cell_type": "markdown",
   "metadata": {},
   "source": [
    "Create lookup dictionaries for function parse_section_text:"
   ]
  },
  {
   "cell_type": "code",
   "execution_count": 5,
   "metadata": {},
   "outputs": [],
   "source": [
    "toc_dict = {\"pfe\": 1, \"mrna\": 1, \"jnj\": 2, \"lly\": 1, \"abbv\": 2}"
   ]
  },
  {
   "cell_type": "code",
   "execution_count": 6,
   "metadata": {},
   "outputs": [],
   "source": [
    "toc_start_dict = {\"1A\": \"risk factors \", \n",
    "                  \"7\": \"management’s discussion and analysis of financial condition and results of operations \",\n",
    "                 \"7alt\":\"management’s discussion and analysis of results of operations and financial condition \"}"
   ]
  },
  {
   "cell_type": "code",
   "execution_count": 7,
   "metadata": {},
   "outputs": [],
   "source": [
    "toc_end_dict = {\"1A\": \"properties \",\n",
    "                \"7\": \"quantitative and qualitative disclosures about market risk \",\n",
    "                \"7alt\": \"quantitative and qualitative disclosures about market risk \"}"
   ]
  },
  {
   "cell_type": "code",
   "execution_count": 8,
   "metadata": {},
   "outputs": [],
   "source": [
    "end_section_dict = {\"1A\": \"item 2\",\n",
    "                    \"7\": \"item 7a\",\n",
    "                   \"7alt\":\"item 7a\"}"
   ]
  },
  {
   "cell_type": "markdown",
   "metadata": {},
   "source": [
    "Create function parse_section_text"
   ]
  },
  {
   "cell_type": "code",
   "execution_count": 9,
   "metadata": {},
   "outputs": [],
   "source": [
    "def parse_section_text(ticker, section):\n",
    "    with open(ticker+'.pdf','rb') as pdf_file:  \n",
    "    read_pdf = PyPDF2.PdfFileReader(pdf_file)        \n",
    "    toc_content = read_pdf.getPage(toc_dict[ticker]).extractText().replace(\"\\t\",\" \").replace(\"\\n\",\" \")\n",
    "                  .lower().replace(\"'\",\"’\")\n",
    "\n",
    "    start_page = int(toc_content[re.search(toc_start_dict[section], toc_content).end()\n",
    "                                 -1:re.search(toc_start_dict[section], toc_content).end()+3].split()[0])  \n",
    "    end_page = int(toc_content[re.search(toc_end_dict[section], toc_content).end()\n",
    "                                 -1:re.search(toc_end_dict[section], toc_content).end()+3].split()[0])  \n",
    "\n",
    "    pages_to_extract=[]\n",
    "    for i in range(0, read_pdf.numPages):\n",
    "        try:\n",
    "            last3_pg_end=read_pdf.getPage(i).extractText().replace(\"\\t\",\" \").replace(\"\\n\",\" \").lower().\n",
    "            replace(\"   |    2022 form 10-k\",\"\")[-3:] \n",
    "            if int(re.sub('\\D', '', last3_pg_end)) in [start_page, end_page]:\n",
    "                pages_to_extract.append(i)\n",
    "        except Exception:\n",
    "            pass\n",
    "\n",
    "    first_page=read_pdf.getPage(pages_to_extract[0]).extractText().replace(\"\\t\",\" \").replace(\"\\n\",\" \").lower()\n",
    "               .replace(\"   |    2022 form 10-k\",\"\").replace(\"\\\"\",\"\").replace(\"'\",\"’\")\n",
    "    first_page_keep=first_page[re.search(toc_start_dict[section], first_page).end():]  \n",
    "\n",
    "    last_page=read_pdf.getPage(pages_to_extract[1]).extractText().replace(\"\\t\",\" \").replace(\"\\n\",\" \").lower()\n",
    "              .replace(\"   |    2022 form 10-k\",\"\").replace(\"\\\"\",\"\").replace(\"'\",\"’\")\n",
    "    last_page_keep=last_page[:re.search(end_section_dict[section], last_page).start()]\n",
    "\n",
    "    content_str=first_page_keep\n",
    "    for i in range(pages_to_extract[0]+1,pages_to_extract[1]):\n",
    "        page_content=read_pdf.getPage(i).extractText().replace(\"\\t\",\" \").replace(\"\\n\",\" \").lower()\n",
    "                     .replace(\"   |    2022 form 10-k\",\"\").replace(\"\\\"\",\"\").replace(\"'\",\"’\")\n",
    "        content_str+=page_content\n",
    "    content_str+=last_page_keep\n",
    "    return content_str"
   ]
  },
  {
   "cell_type": "markdown",
   "metadata": {},
   "source": [
    "Create dictionaries for item 1A and  7"
   ]
  },
  {
   "cell_type": "code",
   "execution_count": 10,
   "metadata": {},
   "outputs": [],
   "source": [
    "item1A_dict={}\n",
    "for i in range(0,5):\n",
    "    item1A_dict[ticker_ls[i]]= parse_section_text(ticker_ls[i],'1A')"
   ]
  },
  {
   "cell_type": "code",
   "execution_count": 11,
   "metadata": {},
   "outputs": [],
   "source": [
    "item7_dict={}\n",
    "for i in range(0,len(ticker_ls)):\n",
    "    if ticker_ls[i] in ['jnj','lly']:\n",
    "        item7_dict[ticker_ls[i]] = parse_section_text(ticker_ls[i],'7alt')\n",
    "    else:\n",
    "        item7_dict[ticker_ls[i]] = parse_section_text(ticker_ls[i],'7')"
   ]
  },
  {
   "cell_type": "markdown",
   "metadata": {},
   "source": [
    "Taking a look at first 100 words of items 1A and 7 for Pfizer Inc. (PFE)"
   ]
  },
  {
   "cell_type": "code",
   "execution_count": 12,
   "metadata": {
    "scrolled": true
   },
   "outputs": [
    {
     "name": "stdout",
     "output_type": "stream",
     "text": [
      "Item 1A: this section describes the material risks to our business, which should be considered carefully in addition to the other information in this report and our other filings with the sec. investors should be aware that it is not possible to predict or identify all such factors and that the following is pfizer inc. 2022 form 10-k 13not meant to be a complete discussion of all potential risks or uncertainties. additionally, our business is subject to general risks applicable to any company, such as economic conditions, geopolitical events, extreme weather and natural disasters. if known or unknown risks or uncertainties materialize,\n"
     ]
    }
   ],
   "source": [
    "print(\"Item 1A: \"+' '.join(item1A_dict['pfe'].split()[0:100]))"
   ]
  },
  {
   "cell_type": "code",
   "execution_count": 13,
   "metadata": {
    "scrolled": true
   },
   "outputs": [
    {
     "name": "stdout",
     "output_type": "stream",
     "text": [
      "Item 7: overview of our performance, operating environment, strategy and outlook financial highlights the following is a summary of certain financial performance metrics (in billions, except per share data): 2022 total revenues––$81.3 billion 2022 net cash flow from operations––$32.6 billion an increase of 95% compared to 2020 an increase of 126% compared to 2020 2022 reported diluted eps––$3.85 2022 adjusted diluted eps (non-gaap)––$4.42* an increase of 137% compared to 2020 an increase of 96% compared to 2020 * for additional information regarding adjusted diluted eps (which is a non-gaap financial measure), including reconciliations of certain gaap reported to non-gaap adjusted information, see\n"
     ]
    }
   ],
   "source": [
    "print(\"Item 7: \"+' '.join(item7_dict['pfe'].split()[0:100]))"
   ]
  },
  {
   "cell_type": "markdown",
   "metadata": {},
   "source": [
    "### B) Text Cleaning"
   ]
  },
  {
   "cell_type": "markdown",
   "metadata": {},
   "source": [
    "#### Stop word and punctuation removal"
   ]
  },
  {
   "cell_type": "markdown",
   "metadata": {},
   "source": [
    "Create list of stop words"
   ]
  },
  {
   "cell_type": "code",
   "execution_count": 14,
   "metadata": {
    "scrolled": true
   },
   "outputs": [],
   "source": [
    "nlp = spacy.load('en_core_web_lg')"
   ]
  },
  {
   "cell_type": "code",
   "execution_count": 15,
   "metadata": {},
   "outputs": [],
   "source": [
    "stop_words_ls=list(nlp.Defaults.stop_words)"
   ]
  },
  {
   "cell_type": "code",
   "execution_count": 16,
   "metadata": {
    "scrolled": true
   },
   "outputs": [
    {
     "name": "stdout",
     "output_type": "stream",
     "text": [
      "['along', 'few', 'amongst', 'is', 'except', 'these', 'over', 'noone', 'hereupon']\n"
     ]
    }
   ],
   "source": [
    "#Taking a look at first 10 elements\n",
    "print(stop_words_ls[0:9])"
   ]
  },
  {
   "cell_type": "markdown",
   "metadata": {},
   "source": [
    "Display list of punctuation"
   ]
  },
  {
   "cell_type": "code",
   "execution_count": 17,
   "metadata": {},
   "outputs": [
    {
     "data": {
      "text/plain": [
       "'!\"#$%&\\'()*+,-./:;<=>?@[\\\\]^_`{|}~'"
      ]
     },
     "execution_count": 17,
     "metadata": {},
     "output_type": "execute_result"
    }
   ],
   "source": [
    "punctuation"
   ]
  },
  {
   "cell_type": "markdown",
   "metadata": {},
   "source": [
    "Remove stop words and punctuation from dictionaries *item1A_dict* and *item7_dict*"
   ]
  },
  {
   "cell_type": "code",
   "execution_count": 18,
   "metadata": {},
   "outputs": [],
   "source": [
    "def create_nsw_dictionaries(section_dict):\n",
    "    nsw_dict={}\n",
    "    nsw_str_ls=[]\n",
    "    for t in range(0, len(ticker_ls)):\n",
    "        all_words=word_tokenize(section_dict[ticker_ls[t]])\n",
    "        nsw_str=''\n",
    "        for i in range(0, len(all_words)):\n",
    "            if all_words[i] not in stop_words_ls and all_words[i] not in punctuation:\n",
    "                nsw_str+=all_words[i]+' '\n",
    "        nsw_str_ls.append(nsw_str)\n",
    "        nsw_dict[ticker_ls[t]]=nsw_str_ls[t]\n",
    "    return nsw_dict"
   ]
  },
  {
   "cell_type": "code",
   "execution_count": 19,
   "metadata": {},
   "outputs": [],
   "source": [
    "item1A_nsw_dict=create_nsw_dictionaries(item1A_dict)\n",
    "item7_nsw_dict=create_nsw_dictionaries(item7_dict)"
   ]
  },
  {
   "cell_type": "markdown",
   "metadata": {},
   "source": [
    "Table for stop words and punctuations removed:"
   ]
  },
  {
   "cell_type": "code",
   "execution_count": 20,
   "metadata": {},
   "outputs": [],
   "source": [
    "def compare_length(dict):\n",
    "    len_ls=[]\n",
    "    for t in range(0, len(ticker_ls)):\n",
    "        len_ls.append(len(dict[ticker_ls[t]].split()))\n",
    "    return len_ls"
   ]
  },
  {
   "cell_type": "code",
   "execution_count": 56,
   "metadata": {
    "scrolled": true
   },
   "outputs": [
    {
     "data": {
      "text/html": [
       "<style  type=\"text/css\" >\n",
       "    #T_137299cc_1209_11ed_99db_acde48001122 caption {\n",
       "          text-align: center;\n",
       "          font-size: 100%;\n",
       "          color: black;\n",
       "          font-weight: bold;\n",
       "    }#T_137299cc_1209_11ed_99db_acde48001122row0_col3,#T_137299cc_1209_11ed_99db_acde48001122row0_col6,#T_137299cc_1209_11ed_99db_acde48001122row0_col7,#T_137299cc_1209_11ed_99db_acde48001122row0_col8,#T_137299cc_1209_11ed_99db_acde48001122row1_col3,#T_137299cc_1209_11ed_99db_acde48001122row1_col6,#T_137299cc_1209_11ed_99db_acde48001122row1_col7,#T_137299cc_1209_11ed_99db_acde48001122row1_col8,#T_137299cc_1209_11ed_99db_acde48001122row2_col3,#T_137299cc_1209_11ed_99db_acde48001122row2_col6,#T_137299cc_1209_11ed_99db_acde48001122row2_col7,#T_137299cc_1209_11ed_99db_acde48001122row2_col8,#T_137299cc_1209_11ed_99db_acde48001122row3_col3,#T_137299cc_1209_11ed_99db_acde48001122row3_col6,#T_137299cc_1209_11ed_99db_acde48001122row3_col7,#T_137299cc_1209_11ed_99db_acde48001122row3_col8,#T_137299cc_1209_11ed_99db_acde48001122row4_col3,#T_137299cc_1209_11ed_99db_acde48001122row4_col6,#T_137299cc_1209_11ed_99db_acde48001122row4_col7,#T_137299cc_1209_11ed_99db_acde48001122row4_col8{\n",
       "            font-weight:  bold;\n",
       "        }</style><table id=\"T_137299cc_1209_11ed_99db_acde48001122\" ><caption>Text Cleaning Word Count Comparison</caption><thead>    <tr>        <th class=\"col_heading level0 col0\" >Company</th>        <th class=\"col_heading level0 col1\" >Item 1A Original</th>        <th class=\"col_heading level0 col2\" >Item 1A Shortened</th>        <th class=\"col_heading level0 col3\" >Item 1A Stop Words & Punctuation</th>        <th class=\"col_heading level0 col4\" >Item 7 Original</th>        <th class=\"col_heading level0 col5\" >Item 7 Shortened</th>        <th class=\"col_heading level0 col6\" >Item 7 Stop Words & Punctuation</th>        <th class=\"col_heading level0 col7\" >Total Stop Words & Punctuation</th>        <th class=\"col_heading level0 col8\" >% of Words Removed</th>    </tr></thead><tbody>\n",
       "                <tr>\n",
       "                                <td id=\"T_137299cc_1209_11ed_99db_acde48001122row0_col0\" class=\"data row0 col0\" >Pfizer Inc.</td>\n",
       "                        <td id=\"T_137299cc_1209_11ed_99db_acde48001122row0_col1\" class=\"data row0 col1\" >10668</td>\n",
       "                        <td id=\"T_137299cc_1209_11ed_99db_acde48001122row0_col2\" class=\"data row0 col2\" >6045</td>\n",
       "                        <td id=\"T_137299cc_1209_11ed_99db_acde48001122row0_col3\" class=\"data row0 col3\" >4623</td>\n",
       "                        <td id=\"T_137299cc_1209_11ed_99db_acde48001122row0_col4\" class=\"data row0 col4\" >16942</td>\n",
       "                        <td id=\"T_137299cc_1209_11ed_99db_acde48001122row0_col5\" class=\"data row0 col5\" >10640</td>\n",
       "                        <td id=\"T_137299cc_1209_11ed_99db_acde48001122row0_col6\" class=\"data row0 col6\" >6302</td>\n",
       "                        <td id=\"T_137299cc_1209_11ed_99db_acde48001122row0_col7\" class=\"data row0 col7\" >10925</td>\n",
       "                        <td id=\"T_137299cc_1209_11ed_99db_acde48001122row0_col8\" class=\"data row0 col8\" >39.6%</td>\n",
       "            </tr>\n",
       "            <tr>\n",
       "                                <td id=\"T_137299cc_1209_11ed_99db_acde48001122row1_col0\" class=\"data row1 col0\" >Moderna, Inc.</td>\n",
       "                        <td id=\"T_137299cc_1209_11ed_99db_acde48001122row1_col1\" class=\"data row1 col1\" >32508</td>\n",
       "                        <td id=\"T_137299cc_1209_11ed_99db_acde48001122row1_col2\" class=\"data row1 col2\" >17472</td>\n",
       "                        <td id=\"T_137299cc_1209_11ed_99db_acde48001122row1_col3\" class=\"data row1 col3\" >15036</td>\n",
       "                        <td id=\"T_137299cc_1209_11ed_99db_acde48001122row1_col4\" class=\"data row1 col4\" >8484</td>\n",
       "                        <td id=\"T_137299cc_1209_11ed_99db_acde48001122row1_col5\" class=\"data row1 col5\" >5096</td>\n",
       "                        <td id=\"T_137299cc_1209_11ed_99db_acde48001122row1_col6\" class=\"data row1 col6\" >3388</td>\n",
       "                        <td id=\"T_137299cc_1209_11ed_99db_acde48001122row1_col7\" class=\"data row1 col7\" >18424</td>\n",
       "                        <td id=\"T_137299cc_1209_11ed_99db_acde48001122row1_col8\" class=\"data row1 col8\" >44.9%</td>\n",
       "            </tr>\n",
       "            <tr>\n",
       "                                <td id=\"T_137299cc_1209_11ed_99db_acde48001122row2_col0\" class=\"data row2 col0\" >Johnson & Johnson</td>\n",
       "                        <td id=\"T_137299cc_1209_11ed_99db_acde48001122row2_col1\" class=\"data row2 col1\" >5972</td>\n",
       "                        <td id=\"T_137299cc_1209_11ed_99db_acde48001122row2_col2\" class=\"data row2 col2\" >3613</td>\n",
       "                        <td id=\"T_137299cc_1209_11ed_99db_acde48001122row2_col3\" class=\"data row2 col3\" >2359</td>\n",
       "                        <td id=\"T_137299cc_1209_11ed_99db_acde48001122row2_col4\" class=\"data row2 col4\" >10238</td>\n",
       "                        <td id=\"T_137299cc_1209_11ed_99db_acde48001122row2_col5\" class=\"data row2 col5\" >6703</td>\n",
       "                        <td id=\"T_137299cc_1209_11ed_99db_acde48001122row2_col6\" class=\"data row2 col6\" >3535</td>\n",
       "                        <td id=\"T_137299cc_1209_11ed_99db_acde48001122row2_col7\" class=\"data row2 col7\" >5894</td>\n",
       "                        <td id=\"T_137299cc_1209_11ed_99db_acde48001122row2_col8\" class=\"data row2 col8\" >36.4%</td>\n",
       "            </tr>\n",
       "            <tr>\n",
       "                                <td id=\"T_137299cc_1209_11ed_99db_acde48001122row3_col0\" class=\"data row3 col0\" >Eli Lilly and Company</td>\n",
       "                        <td id=\"T_137299cc_1209_11ed_99db_acde48001122row3_col1\" class=\"data row3 col1\" >5894</td>\n",
       "                        <td id=\"T_137299cc_1209_11ed_99db_acde48001122row3_col2\" class=\"data row3 col2\" >3353</td>\n",
       "                        <td id=\"T_137299cc_1209_11ed_99db_acde48001122row3_col3\" class=\"data row3 col3\" >2541</td>\n",
       "                        <td id=\"T_137299cc_1209_11ed_99db_acde48001122row3_col4\" class=\"data row3 col4\" >10483</td>\n",
       "                        <td id=\"T_137299cc_1209_11ed_99db_acde48001122row3_col5\" class=\"data row3 col5\" >6497</td>\n",
       "                        <td id=\"T_137299cc_1209_11ed_99db_acde48001122row3_col6\" class=\"data row3 col6\" >3986</td>\n",
       "                        <td id=\"T_137299cc_1209_11ed_99db_acde48001122row3_col7\" class=\"data row3 col7\" >6527</td>\n",
       "                        <td id=\"T_137299cc_1209_11ed_99db_acde48001122row3_col8\" class=\"data row3 col8\" >39.9%</td>\n",
       "            </tr>\n",
       "            <tr>\n",
       "                                <td id=\"T_137299cc_1209_11ed_99db_acde48001122row4_col0\" class=\"data row4 col0\" >AbbVie Inc.</td>\n",
       "                        <td id=\"T_137299cc_1209_11ed_99db_acde48001122row4_col1\" class=\"data row4 col1\" >7759</td>\n",
       "                        <td id=\"T_137299cc_1209_11ed_99db_acde48001122row4_col2\" class=\"data row4 col2\" >4942</td>\n",
       "                        <td id=\"T_137299cc_1209_11ed_99db_acde48001122row4_col3\" class=\"data row4 col3\" >2817</td>\n",
       "                        <td id=\"T_137299cc_1209_11ed_99db_acde48001122row4_col4\" class=\"data row4 col4\" >9415</td>\n",
       "                        <td id=\"T_137299cc_1209_11ed_99db_acde48001122row4_col5\" class=\"data row4 col5\" >6123</td>\n",
       "                        <td id=\"T_137299cc_1209_11ed_99db_acde48001122row4_col6\" class=\"data row4 col6\" >3292</td>\n",
       "                        <td id=\"T_137299cc_1209_11ed_99db_acde48001122row4_col7\" class=\"data row4 col7\" >6109</td>\n",
       "                        <td id=\"T_137299cc_1209_11ed_99db_acde48001122row4_col8\" class=\"data row4 col8\" >35.6%</td>\n",
       "            </tr>\n",
       "    </tbody></table>"
      ],
      "text/plain": [
       "<pandas.io.formats.style.Styler at 0x7fae20c3a820>"
      ]
     },
     "execution_count": 56,
     "metadata": {},
     "output_type": "execute_result"
    }
   ],
   "source": [
    "company=pd.Series(company_ls)\n",
    "item1A_orig=pd.Series(compare_length(item1A_dict))\n",
    "item1A_nsw=pd.Series(compare_length(item1A_nsw_dict))\n",
    "item7_orig=pd.Series(compare_length(item7_dict))\n",
    "item7_nsw=pd.Series(compare_length(item7_nsw_dict))\n",
    "length_df=pd.DataFrame({'Company': company, \"Item 1A Original\": item1A_orig, 'Item 1A Shortened': item1A_nsw,\n",
    "          'Item 1A Stop Words & Punctuation': item1A_orig-item1A_nsw,\n",
    "          'Item 7 Original': item7_orig, 'Item 7 Shortened': item7_nsw,\n",
    "          'Item 7 Stop Words & Punctuation': item7_orig-item7_nsw, \n",
    "          'Total Stop Words & Punctuation': item1A_orig-item1A_nsw+item7_orig-item7_nsw,\n",
    "           '% of Words Removed': (item1A_orig-item1A_nsw+item7_orig-item7_nsw)/(item1A_orig+item7_orig)})\n",
    "length_df['% of Words Removed']=length_df['% of Words Removed'].map('{:.1%}'.format)\n",
    "title_style = [dict(selector=\"caption\",\n",
    "            props=[(\"text-align\", \"center\"),\n",
    "                   (\"font-size\", \"100%\"),\n",
    "                   (\"color\", 'black'),\n",
    "                   (\"font-weight\", \"bold\")])]\n",
    "\n",
    "\n",
    "length_df.style.hide_index().set_properties(subset=['Item 1A Stop Words & Punctuation',\n",
    "                                                    'Item 7 Stop Words & Punctuation',\n",
    "                                                   'Total Stop Words & Punctuation', '% of Words Removed'], \n",
    "                                                    **{'font-weight': 'bold'})\n",
    "                                                    .set_caption('Text Cleaning Word Count Comparison')\n",
    "                                                    .set_table_styles(title_style)"
   ]
  },
  {
   "cell_type": "markdown",
   "metadata": {},
   "source": []
  },
  {
   "cell_type": "markdown",
   "metadata": {},
   "source": [
    "## II. Comparison of Sentiment Word Frequency"
   ]
  },
  {
   "cell_type": "markdown",
   "metadata": {},
   "source": [
    "### A) Create lists for sentiment words"
   ]
  },
  {
   "cell_type": "markdown",
   "metadata": {},
   "source": [
    "For this analysis, I will use the Master Dictionary created by [Loughran and McDonald](https://sraf.nd.edu/loughranmcdonald-master-dictionary), which includes 354 positive and 2355 negative words that have frequently appeared in 10-k's. "
   ]
  },
  {
   "cell_type": "markdown",
   "metadata": {},
   "source": [
    "**Import Master Dictionary**"
   ]
  },
  {
   "cell_type": "code",
   "execution_count": 22,
   "metadata": {},
   "outputs": [],
   "source": [
    "master_dict=pd.read_csv(\n",
    "            \"/Users/chenmouse/Desktop/NLP/Final Project - 10K Sentiment Analysis/Loughran-McDonald_MasterDict.csv\")"
   ]
  },
  {
   "cell_type": "markdown",
   "metadata": {},
   "source": [
    "Taking a look at first 10 rows"
   ]
  },
  {
   "cell_type": "code",
   "execution_count": 23,
   "metadata": {},
   "outputs": [
    {
     "data": {
      "text/html": [
       "<div>\n",
       "<style scoped>\n",
       "    .dataframe tbody tr th:only-of-type {\n",
       "        vertical-align: middle;\n",
       "    }\n",
       "\n",
       "    .dataframe tbody tr th {\n",
       "        vertical-align: top;\n",
       "    }\n",
       "\n",
       "    .dataframe thead th {\n",
       "        text-align: right;\n",
       "    }\n",
       "</style>\n",
       "<table border=\"1\" class=\"dataframe\">\n",
       "  <thead>\n",
       "    <tr style=\"text-align: right;\">\n",
       "      <th></th>\n",
       "      <th>Word</th>\n",
       "      <th>Seq_num</th>\n",
       "      <th>Word Count</th>\n",
       "      <th>Word Proportion</th>\n",
       "      <th>Average Proportion</th>\n",
       "      <th>Std Dev</th>\n",
       "      <th>Doc Count</th>\n",
       "      <th>Negative</th>\n",
       "      <th>Positive</th>\n",
       "      <th>Uncertainty</th>\n",
       "      <th>Litigious</th>\n",
       "      <th>Strong_Modal</th>\n",
       "      <th>Weak_Modal</th>\n",
       "      <th>Constraining</th>\n",
       "      <th>Syllables</th>\n",
       "      <th>Source</th>\n",
       "    </tr>\n",
       "  </thead>\n",
       "  <tbody>\n",
       "    <tr>\n",
       "      <th>0</th>\n",
       "      <td>AARDVARK</td>\n",
       "      <td>1</td>\n",
       "      <td>354</td>\n",
       "      <td>1.550000e-08</td>\n",
       "      <td>1.420000e-08</td>\n",
       "      <td>3.820000e-06</td>\n",
       "      <td>99</td>\n",
       "      <td>0</td>\n",
       "      <td>0</td>\n",
       "      <td>0</td>\n",
       "      <td>0</td>\n",
       "      <td>0</td>\n",
       "      <td>0</td>\n",
       "      <td>0</td>\n",
       "      <td>2</td>\n",
       "      <td>12of12inf</td>\n",
       "    </tr>\n",
       "    <tr>\n",
       "      <th>1</th>\n",
       "      <td>AARDVARKS</td>\n",
       "      <td>2</td>\n",
       "      <td>3</td>\n",
       "      <td>1.310000e-10</td>\n",
       "      <td>8.650000e-12</td>\n",
       "      <td>9.240000e-09</td>\n",
       "      <td>1</td>\n",
       "      <td>0</td>\n",
       "      <td>0</td>\n",
       "      <td>0</td>\n",
       "      <td>0</td>\n",
       "      <td>0</td>\n",
       "      <td>0</td>\n",
       "      <td>0</td>\n",
       "      <td>2</td>\n",
       "      <td>12of12inf</td>\n",
       "    </tr>\n",
       "    <tr>\n",
       "      <th>2</th>\n",
       "      <td>ABACI</td>\n",
       "      <td>3</td>\n",
       "      <td>9</td>\n",
       "      <td>3.940000e-10</td>\n",
       "      <td>1.170000e-10</td>\n",
       "      <td>5.290000e-08</td>\n",
       "      <td>7</td>\n",
       "      <td>0</td>\n",
       "      <td>0</td>\n",
       "      <td>0</td>\n",
       "      <td>0</td>\n",
       "      <td>0</td>\n",
       "      <td>0</td>\n",
       "      <td>0</td>\n",
       "      <td>3</td>\n",
       "      <td>12of12inf</td>\n",
       "    </tr>\n",
       "    <tr>\n",
       "      <th>3</th>\n",
       "      <td>ABACK</td>\n",
       "      <td>4</td>\n",
       "      <td>29</td>\n",
       "      <td>1.270000e-09</td>\n",
       "      <td>6.650000e-10</td>\n",
       "      <td>1.600000e-07</td>\n",
       "      <td>28</td>\n",
       "      <td>0</td>\n",
       "      <td>0</td>\n",
       "      <td>0</td>\n",
       "      <td>0</td>\n",
       "      <td>0</td>\n",
       "      <td>0</td>\n",
       "      <td>0</td>\n",
       "      <td>2</td>\n",
       "      <td>12of12inf</td>\n",
       "    </tr>\n",
       "    <tr>\n",
       "      <th>4</th>\n",
       "      <td>ABACUS</td>\n",
       "      <td>5</td>\n",
       "      <td>8570</td>\n",
       "      <td>3.750000e-07</td>\n",
       "      <td>3.810000e-07</td>\n",
       "      <td>3.530000e-05</td>\n",
       "      <td>1108</td>\n",
       "      <td>0</td>\n",
       "      <td>0</td>\n",
       "      <td>0</td>\n",
       "      <td>0</td>\n",
       "      <td>0</td>\n",
       "      <td>0</td>\n",
       "      <td>0</td>\n",
       "      <td>3</td>\n",
       "      <td>12of12inf</td>\n",
       "    </tr>\n",
       "    <tr>\n",
       "      <th>5</th>\n",
       "      <td>ABACUSES</td>\n",
       "      <td>6</td>\n",
       "      <td>0</td>\n",
       "      <td>0.000000e+00</td>\n",
       "      <td>0.000000e+00</td>\n",
       "      <td>0.000000e+00</td>\n",
       "      <td>0</td>\n",
       "      <td>0</td>\n",
       "      <td>0</td>\n",
       "      <td>0</td>\n",
       "      <td>0</td>\n",
       "      <td>0</td>\n",
       "      <td>0</td>\n",
       "      <td>0</td>\n",
       "      <td>4</td>\n",
       "      <td>12of12inf</td>\n",
       "    </tr>\n",
       "    <tr>\n",
       "      <th>6</th>\n",
       "      <td>ABAFT</td>\n",
       "      <td>7</td>\n",
       "      <td>4</td>\n",
       "      <td>1.750000e-10</td>\n",
       "      <td>2.300000e-11</td>\n",
       "      <td>2.460000e-08</td>\n",
       "      <td>1</td>\n",
       "      <td>0</td>\n",
       "      <td>0</td>\n",
       "      <td>0</td>\n",
       "      <td>0</td>\n",
       "      <td>0</td>\n",
       "      <td>0</td>\n",
       "      <td>0</td>\n",
       "      <td>2</td>\n",
       "      <td>12of12inf</td>\n",
       "    </tr>\n",
       "    <tr>\n",
       "      <th>7</th>\n",
       "      <td>ABALONE</td>\n",
       "      <td>8</td>\n",
       "      <td>142</td>\n",
       "      <td>6.220000e-09</td>\n",
       "      <td>4.970000e-09</td>\n",
       "      <td>1.070000e-06</td>\n",
       "      <td>48</td>\n",
       "      <td>0</td>\n",
       "      <td>0</td>\n",
       "      <td>0</td>\n",
       "      <td>0</td>\n",
       "      <td>0</td>\n",
       "      <td>0</td>\n",
       "      <td>0</td>\n",
       "      <td>4</td>\n",
       "      <td>12of12inf</td>\n",
       "    </tr>\n",
       "    <tr>\n",
       "      <th>8</th>\n",
       "      <td>ABALONES</td>\n",
       "      <td>9</td>\n",
       "      <td>1</td>\n",
       "      <td>4.380000e-11</td>\n",
       "      <td>8.280000e-11</td>\n",
       "      <td>8.850000e-08</td>\n",
       "      <td>1</td>\n",
       "      <td>0</td>\n",
       "      <td>0</td>\n",
       "      <td>0</td>\n",
       "      <td>0</td>\n",
       "      <td>0</td>\n",
       "      <td>0</td>\n",
       "      <td>0</td>\n",
       "      <td>4</td>\n",
       "      <td>12of12inf</td>\n",
       "    </tr>\n",
       "    <tr>\n",
       "      <th>9</th>\n",
       "      <td>ABANDON</td>\n",
       "      <td>10</td>\n",
       "      <td>127090</td>\n",
       "      <td>5.560000e-06</td>\n",
       "      <td>4.700000e-06</td>\n",
       "      <td>3.310000e-05</td>\n",
       "      <td>66312</td>\n",
       "      <td>2009</td>\n",
       "      <td>0</td>\n",
       "      <td>0</td>\n",
       "      <td>0</td>\n",
       "      <td>0</td>\n",
       "      <td>0</td>\n",
       "      <td>0</td>\n",
       "      <td>3</td>\n",
       "      <td>12of12inf</td>\n",
       "    </tr>\n",
       "  </tbody>\n",
       "</table>\n",
       "</div>"
      ],
      "text/plain": [
       "        Word  Seq_num  Word Count  Word Proportion  Average Proportion  \\\n",
       "0   AARDVARK        1         354     1.550000e-08        1.420000e-08   \n",
       "1  AARDVARKS        2           3     1.310000e-10        8.650000e-12   \n",
       "2      ABACI        3           9     3.940000e-10        1.170000e-10   \n",
       "3      ABACK        4          29     1.270000e-09        6.650000e-10   \n",
       "4     ABACUS        5        8570     3.750000e-07        3.810000e-07   \n",
       "5   ABACUSES        6           0     0.000000e+00        0.000000e+00   \n",
       "6      ABAFT        7           4     1.750000e-10        2.300000e-11   \n",
       "7    ABALONE        8         142     6.220000e-09        4.970000e-09   \n",
       "8   ABALONES        9           1     4.380000e-11        8.280000e-11   \n",
       "9    ABANDON       10      127090     5.560000e-06        4.700000e-06   \n",
       "\n",
       "        Std Dev  Doc Count  Negative  Positive  Uncertainty  Litigious  \\\n",
       "0  3.820000e-06         99         0         0            0          0   \n",
       "1  9.240000e-09          1         0         0            0          0   \n",
       "2  5.290000e-08          7         0         0            0          0   \n",
       "3  1.600000e-07         28         0         0            0          0   \n",
       "4  3.530000e-05       1108         0         0            0          0   \n",
       "5  0.000000e+00          0         0         0            0          0   \n",
       "6  2.460000e-08          1         0         0            0          0   \n",
       "7  1.070000e-06         48         0         0            0          0   \n",
       "8  8.850000e-08          1         0         0            0          0   \n",
       "9  3.310000e-05      66312      2009         0            0          0   \n",
       "\n",
       "   Strong_Modal  Weak_Modal  Constraining  Syllables     Source  \n",
       "0             0           0             0          2  12of12inf  \n",
       "1             0           0             0          2  12of12inf  \n",
       "2             0           0             0          3  12of12inf  \n",
       "3             0           0             0          2  12of12inf  \n",
       "4             0           0             0          3  12of12inf  \n",
       "5             0           0             0          4  12of12inf  \n",
       "6             0           0             0          2  12of12inf  \n",
       "7             0           0             0          4  12of12inf  \n",
       "8             0           0             0          4  12of12inf  \n",
       "9             0           0             0          3  12of12inf  "
      ]
     },
     "execution_count": 23,
     "metadata": {},
     "output_type": "execute_result"
    }
   ],
   "source": [
    "master_dict.head(10)"
   ]
  },
  {
   "cell_type": "markdown",
   "metadata": {},
   "source": [
    "**Filter for sentiment words, which are indicated by the year added to the master dictionary under \"Negative\" and \"Positive\" columns**"
   ]
  },
  {
   "cell_type": "markdown",
   "metadata": {},
   "source": [
    "List of negative words"
   ]
  },
  {
   "cell_type": "code",
   "execution_count": 24,
   "metadata": {
    "scrolled": true
   },
   "outputs": [
    {
     "name": "stdout",
     "output_type": "stream",
     "text": [
      "['abandon', 'abandoned', 'abandoning', 'abandonment', 'abandonments', 'abandons', 'abdicated', 'abdicates', 'abdicating', 'abdication']\n"
     ]
    }
   ],
   "source": [
    "neg_words_ls=master_dict[(master_dict['Negative']!=0)]['Word'].tolist()\n",
    "neg_words_ls=[i.lower() for i in neg_words_ls]\n",
    "print(neg_words_ls[0:10])"
   ]
  },
  {
   "cell_type": "markdown",
   "metadata": {},
   "source": [
    "List of positive words"
   ]
  },
  {
   "cell_type": "code",
   "execution_count": 25,
   "metadata": {},
   "outputs": [
    {
     "name": "stdout",
     "output_type": "stream",
     "text": [
      "['able', 'abundance', 'abundant', 'acclaimed', 'accomplish', 'accomplished', 'accomplishes', 'accomplishing', 'accomplishment', 'accomplishments']\n"
     ]
    }
   ],
   "source": [
    "pos_words_ls=master_dict[(master_dict['Positive']!=0)]['Word'].tolist()\n",
    "pos_words_ls=[i.lower() for i in pos_words_ls]\n",
    "print(pos_words_ls[0:10])"
   ]
  },
  {
   "cell_type": "code",
   "execution_count": 26,
   "metadata": {},
   "outputs": [
    {
     "data": {
      "text/plain": [
       "(2355, 354)"
      ]
     },
     "execution_count": 26,
     "metadata": {},
     "output_type": "execute_result"
    }
   ],
   "source": [
    "len(neg_words_ls), len(pos_words_ls)"
   ]
  },
  {
   "cell_type": "markdown",
   "metadata": {},
   "source": [
    "**Notice that the dictionary is comprehensive of all word forms (i.e. all forms of \"accomplish\"), thus there is no need to lemmatize item 1A and item 7 dictionaries with no stop words.**"
   ]
  },
  {
   "cell_type": "markdown",
   "metadata": {},
   "source": [
    "### B) Count number of positive and negative words in 10-k's"
   ]
  },
  {
   "cell_type": "markdown",
   "metadata": {},
   "source": [
    "Count number of positive words"
   ]
  },
  {
   "cell_type": "code",
   "execution_count": 27,
   "metadata": {},
   "outputs": [],
   "source": [
    "def count_positive(dict, ticker):\n",
    "    pos_count=0\n",
    "    for i in range(0,len(word_tokenize(dict[ticker]))):\n",
    "        if word_tokenize(dict[ticker])[i] in pos_words_ls:\n",
    "            pos_count+=1\n",
    "    return pos_count"
   ]
  },
  {
   "cell_type": "code",
   "execution_count": 28,
   "metadata": {},
   "outputs": [],
   "source": [
    "def count_negative(dict, ticker):\n",
    "    neg_count=0\n",
    "    for i in range(0,len(word_tokenize(dict[ticker]))):\n",
    "        if word_tokenize(dict[ticker])[i] in neg_words_ls:\n",
    "            neg_count+=1\n",
    "    return neg_count"
   ]
  },
  {
   "cell_type": "markdown",
   "metadata": {},
   "source": [
    "Count number of positive and negative words"
   ]
  },
  {
   "cell_type": "code",
   "execution_count": 29,
   "metadata": {},
   "outputs": [],
   "source": [
    "item1A_pos_count={}\n",
    "item7_pos_count={}\n",
    "item1A_neg_count={}\n",
    "item7_neg_count={}\n",
    "for i in range(0, len(ticker_ls)):\n",
    "    item1A_pos_count[ticker_ls[i]]=count_positive(item1A_nsw_dict, ticker_ls[i])\n",
    "    item7_pos_count[ticker_ls[i]]=count_positive(item7_nsw_dict, ticker_ls[i])\n",
    "    item1A_neg_count[ticker_ls[i]]=count_negative(item1A_nsw_dict, ticker_ls[i])\n",
    "    item7_neg_count[ticker_ls[i]]=count_negative(item7_nsw_dict, ticker_ls[i])"
   ]
  },
  {
   "cell_type": "code",
   "execution_count": 30,
   "metadata": {},
   "outputs": [
    {
     "data": {
      "text/plain": [
       "({'pfe': 111, 'mrna': 453, 'jnj': 75, 'lly': 70, 'abbv': 86},\n",
       " {'pfe': 417, 'mrna': 1291, 'jnj': 290, 'lly': 338, 'abbv': 304},\n",
       " {'pfe': 179, 'mrna': 58, 'jnj': 116, 'lly': 92, 'abbv': 108},\n",
       " {'pfe': 226, 'mrna': 46, 'jnj': 138, 'lly': 164, 'abbv': 78})"
      ]
     },
     "execution_count": 30,
     "metadata": {},
     "output_type": "execute_result"
    }
   ],
   "source": [
    "item1A_pos_count, item1A_neg_count, item7_pos_count, item7_neg_count"
   ]
  },
  {
   "cell_type": "code",
   "execution_count": 31,
   "metadata": {
    "scrolled": true
   },
   "outputs": [],
   "source": [
    "def word_count_table(item_count_pos, item_count_neg, item_nsw):\n",
    "    pos=pd.Series(item_count_pos.values())\n",
    "    neg=pd.Series(item_count_neg.values())\n",
    "    wordcount=pd.DataFrame({'Company': company,'Total w/o Stop Words': item_nsw,\n",
    "              'Positive Words': pos,\n",
    "              'Positive Words Frequency': (pos/item_nsw),\n",
    "              'Negative Words': neg,\n",
    "              'Negative Words Frequency': (neg/item_nsw)})\n",
    "    wordcount=wordcount.sort_values(by=['Negative Words Frequency'],ascending=False)\n",
    "    wordcount['Positive Words Frequency']=wordcount['Positive Words Frequency'].map('{:.1%}'.format)\n",
    "    wordcount['Negative Words Frequency']=wordcount['Negative Words Frequency'].map('{:.1%}'.format)\n",
    "    return wordcount"
   ]
  },
  {
   "cell_type": "code",
   "execution_count": 32,
   "metadata": {},
   "outputs": [],
   "source": [
    "sentiment1a=word_count_table(item1A_pos_count, item1A_neg_count, item1A_nsw)\n",
    "sentiment7=word_count_table(item7_pos_count, item7_neg_count, item7_nsw)"
   ]
  },
  {
   "cell_type": "code",
   "execution_count": 33,
   "metadata": {},
   "outputs": [],
   "source": [
    "styles = [dict(selector=\"caption\",props=[(\"text-align\", \"center\"), (\"font-size\", \"100%\"), (\"color\", 'black'),\n",
    "                   (\"font-weight\", \"bold\")])]"
   ]
  },
  {
   "cell_type": "code",
   "execution_count": 34,
   "metadata": {
    "scrolled": true
   },
   "outputs": [
    {
     "data": {
      "text/html": [
       "<style  type=\"text/css\" >\n",
       "    #T_f871dd18_0fbf_11ed_99db_acde48001122 caption {\n",
       "          text-align: center;\n",
       "          font-size: 100%;\n",
       "          color: black;\n",
       "          font-weight: bold;\n",
       "    }#T_f871dd18_0fbf_11ed_99db_acde48001122row0_col3,#T_f871dd18_0fbf_11ed_99db_acde48001122row0_col5,#T_f871dd18_0fbf_11ed_99db_acde48001122row1_col3,#T_f871dd18_0fbf_11ed_99db_acde48001122row1_col5,#T_f871dd18_0fbf_11ed_99db_acde48001122row2_col3,#T_f871dd18_0fbf_11ed_99db_acde48001122row2_col5,#T_f871dd18_0fbf_11ed_99db_acde48001122row3_col3,#T_f871dd18_0fbf_11ed_99db_acde48001122row3_col5,#T_f871dd18_0fbf_11ed_99db_acde48001122row4_col3,#T_f871dd18_0fbf_11ed_99db_acde48001122row4_col5{\n",
       "            font-weight:  bold;\n",
       "        }</style><table id=\"T_f871dd18_0fbf_11ed_99db_acde48001122\" ><caption>Item 1A Sentiment Word Count</caption><thead>    <tr>        <th class=\"col_heading level0 col0\" >Company</th>        <th class=\"col_heading level0 col1\" >Total w/o Stop Words</th>        <th class=\"col_heading level0 col2\" >Positive Words</th>        <th class=\"col_heading level0 col3\" >Positive Words Frequency</th>        <th class=\"col_heading level0 col4\" >Negative Words</th>        <th class=\"col_heading level0 col5\" >Negative Words Frequency</th>    </tr></thead><tbody>\n",
       "                <tr>\n",
       "                                <td id=\"T_f871dd18_0fbf_11ed_99db_acde48001122row0_col0\" class=\"data row0 col0\" >Eli Lilly and Company</td>\n",
       "                        <td id=\"T_f871dd18_0fbf_11ed_99db_acde48001122row0_col1\" class=\"data row0 col1\" >3353</td>\n",
       "                        <td id=\"T_f871dd18_0fbf_11ed_99db_acde48001122row0_col2\" class=\"data row0 col2\" >70</td>\n",
       "                        <td id=\"T_f871dd18_0fbf_11ed_99db_acde48001122row0_col3\" class=\"data row0 col3\" >2.1%</td>\n",
       "                        <td id=\"T_f871dd18_0fbf_11ed_99db_acde48001122row0_col4\" class=\"data row0 col4\" >338</td>\n",
       "                        <td id=\"T_f871dd18_0fbf_11ed_99db_acde48001122row0_col5\" class=\"data row0 col5\" >10.1%</td>\n",
       "            </tr>\n",
       "            <tr>\n",
       "                                <td id=\"T_f871dd18_0fbf_11ed_99db_acde48001122row1_col0\" class=\"data row1 col0\" >Johnson & Johnson</td>\n",
       "                        <td id=\"T_f871dd18_0fbf_11ed_99db_acde48001122row1_col1\" class=\"data row1 col1\" >3613</td>\n",
       "                        <td id=\"T_f871dd18_0fbf_11ed_99db_acde48001122row1_col2\" class=\"data row1 col2\" >75</td>\n",
       "                        <td id=\"T_f871dd18_0fbf_11ed_99db_acde48001122row1_col3\" class=\"data row1 col3\" >2.1%</td>\n",
       "                        <td id=\"T_f871dd18_0fbf_11ed_99db_acde48001122row1_col4\" class=\"data row1 col4\" >290</td>\n",
       "                        <td id=\"T_f871dd18_0fbf_11ed_99db_acde48001122row1_col5\" class=\"data row1 col5\" >8.0%</td>\n",
       "            </tr>\n",
       "            <tr>\n",
       "                                <td id=\"T_f871dd18_0fbf_11ed_99db_acde48001122row2_col0\" class=\"data row2 col0\" >Moderna, Inc.</td>\n",
       "                        <td id=\"T_f871dd18_0fbf_11ed_99db_acde48001122row2_col1\" class=\"data row2 col1\" >17472</td>\n",
       "                        <td id=\"T_f871dd18_0fbf_11ed_99db_acde48001122row2_col2\" class=\"data row2 col2\" >453</td>\n",
       "                        <td id=\"T_f871dd18_0fbf_11ed_99db_acde48001122row2_col3\" class=\"data row2 col3\" >2.6%</td>\n",
       "                        <td id=\"T_f871dd18_0fbf_11ed_99db_acde48001122row2_col4\" class=\"data row2 col4\" >1291</td>\n",
       "                        <td id=\"T_f871dd18_0fbf_11ed_99db_acde48001122row2_col5\" class=\"data row2 col5\" >7.4%</td>\n",
       "            </tr>\n",
       "            <tr>\n",
       "                                <td id=\"T_f871dd18_0fbf_11ed_99db_acde48001122row3_col0\" class=\"data row3 col0\" >Pfizer Inc.</td>\n",
       "                        <td id=\"T_f871dd18_0fbf_11ed_99db_acde48001122row3_col1\" class=\"data row3 col1\" >6045</td>\n",
       "                        <td id=\"T_f871dd18_0fbf_11ed_99db_acde48001122row3_col2\" class=\"data row3 col2\" >111</td>\n",
       "                        <td id=\"T_f871dd18_0fbf_11ed_99db_acde48001122row3_col3\" class=\"data row3 col3\" >1.8%</td>\n",
       "                        <td id=\"T_f871dd18_0fbf_11ed_99db_acde48001122row3_col4\" class=\"data row3 col4\" >417</td>\n",
       "                        <td id=\"T_f871dd18_0fbf_11ed_99db_acde48001122row3_col5\" class=\"data row3 col5\" >6.9%</td>\n",
       "            </tr>\n",
       "            <tr>\n",
       "                                <td id=\"T_f871dd18_0fbf_11ed_99db_acde48001122row4_col0\" class=\"data row4 col0\" >AbbVie Inc.</td>\n",
       "                        <td id=\"T_f871dd18_0fbf_11ed_99db_acde48001122row4_col1\" class=\"data row4 col1\" >4942</td>\n",
       "                        <td id=\"T_f871dd18_0fbf_11ed_99db_acde48001122row4_col2\" class=\"data row4 col2\" >86</td>\n",
       "                        <td id=\"T_f871dd18_0fbf_11ed_99db_acde48001122row4_col3\" class=\"data row4 col3\" >1.7%</td>\n",
       "                        <td id=\"T_f871dd18_0fbf_11ed_99db_acde48001122row4_col4\" class=\"data row4 col4\" >304</td>\n",
       "                        <td id=\"T_f871dd18_0fbf_11ed_99db_acde48001122row4_col5\" class=\"data row4 col5\" >6.2%</td>\n",
       "            </tr>\n",
       "    </tbody></table>"
      ],
      "text/plain": [
       "<pandas.io.formats.style.Styler at 0x7fae21437220>"
      ]
     },
     "execution_count": 34,
     "metadata": {},
     "output_type": "execute_result"
    }
   ],
   "source": [
    "sentiment1a.style.hide_index().set_properties(subset=['Positive Words Frequency','Negative Words Frequency'], \n",
    "**{'font-weight': 'bold'}).set_caption('Item 1A Sentiment Word Count').set_table_styles(styles)"
   ]
  },
  {
   "cell_type": "code",
   "execution_count": 35,
   "metadata": {
    "scrolled": false
   },
   "outputs": [
    {
     "data": {
      "text/html": [
       "<style  type=\"text/css\" >\n",
       "    #T_f87368ea_0fbf_11ed_99db_acde48001122 caption {\n",
       "          text-align: center;\n",
       "          font-size: 100%;\n",
       "          color: black;\n",
       "          font-weight: bold;\n",
       "    }#T_f87368ea_0fbf_11ed_99db_acde48001122row0_col3,#T_f87368ea_0fbf_11ed_99db_acde48001122row0_col5,#T_f87368ea_0fbf_11ed_99db_acde48001122row1_col3,#T_f87368ea_0fbf_11ed_99db_acde48001122row1_col5,#T_f87368ea_0fbf_11ed_99db_acde48001122row2_col3,#T_f87368ea_0fbf_11ed_99db_acde48001122row2_col5,#T_f87368ea_0fbf_11ed_99db_acde48001122row3_col3,#T_f87368ea_0fbf_11ed_99db_acde48001122row3_col5,#T_f87368ea_0fbf_11ed_99db_acde48001122row4_col3,#T_f87368ea_0fbf_11ed_99db_acde48001122row4_col5{\n",
       "            font-weight:  bold;\n",
       "        }</style><table id=\"T_f87368ea_0fbf_11ed_99db_acde48001122\" ><caption>Item 7 Sentiment Word Count</caption><thead>    <tr>        <th class=\"col_heading level0 col0\" >Company</th>        <th class=\"col_heading level0 col1\" >Total w/o Stop Words</th>        <th class=\"col_heading level0 col2\" >Positive Words</th>        <th class=\"col_heading level0 col3\" >Positive Words Frequency</th>        <th class=\"col_heading level0 col4\" >Negative Words</th>        <th class=\"col_heading level0 col5\" >Negative Words Frequency</th>    </tr></thead><tbody>\n",
       "                <tr>\n",
       "                                <td id=\"T_f87368ea_0fbf_11ed_99db_acde48001122row0_col0\" class=\"data row0 col0\" >Eli Lilly and Company</td>\n",
       "                        <td id=\"T_f87368ea_0fbf_11ed_99db_acde48001122row0_col1\" class=\"data row0 col1\" >6497</td>\n",
       "                        <td id=\"T_f87368ea_0fbf_11ed_99db_acde48001122row0_col2\" class=\"data row0 col2\" >92</td>\n",
       "                        <td id=\"T_f87368ea_0fbf_11ed_99db_acde48001122row0_col3\" class=\"data row0 col3\" >1.4%</td>\n",
       "                        <td id=\"T_f87368ea_0fbf_11ed_99db_acde48001122row0_col4\" class=\"data row0 col4\" >164</td>\n",
       "                        <td id=\"T_f87368ea_0fbf_11ed_99db_acde48001122row0_col5\" class=\"data row0 col5\" >2.5%</td>\n",
       "            </tr>\n",
       "            <tr>\n",
       "                                <td id=\"T_f87368ea_0fbf_11ed_99db_acde48001122row1_col0\" class=\"data row1 col0\" >Pfizer Inc.</td>\n",
       "                        <td id=\"T_f87368ea_0fbf_11ed_99db_acde48001122row1_col1\" class=\"data row1 col1\" >10640</td>\n",
       "                        <td id=\"T_f87368ea_0fbf_11ed_99db_acde48001122row1_col2\" class=\"data row1 col2\" >179</td>\n",
       "                        <td id=\"T_f87368ea_0fbf_11ed_99db_acde48001122row1_col3\" class=\"data row1 col3\" >1.7%</td>\n",
       "                        <td id=\"T_f87368ea_0fbf_11ed_99db_acde48001122row1_col4\" class=\"data row1 col4\" >226</td>\n",
       "                        <td id=\"T_f87368ea_0fbf_11ed_99db_acde48001122row1_col5\" class=\"data row1 col5\" >2.1%</td>\n",
       "            </tr>\n",
       "            <tr>\n",
       "                                <td id=\"T_f87368ea_0fbf_11ed_99db_acde48001122row2_col0\" class=\"data row2 col0\" >Johnson & Johnson</td>\n",
       "                        <td id=\"T_f87368ea_0fbf_11ed_99db_acde48001122row2_col1\" class=\"data row2 col1\" >6703</td>\n",
       "                        <td id=\"T_f87368ea_0fbf_11ed_99db_acde48001122row2_col2\" class=\"data row2 col2\" >116</td>\n",
       "                        <td id=\"T_f87368ea_0fbf_11ed_99db_acde48001122row2_col3\" class=\"data row2 col3\" >1.7%</td>\n",
       "                        <td id=\"T_f87368ea_0fbf_11ed_99db_acde48001122row2_col4\" class=\"data row2 col4\" >138</td>\n",
       "                        <td id=\"T_f87368ea_0fbf_11ed_99db_acde48001122row2_col5\" class=\"data row2 col5\" >2.1%</td>\n",
       "            </tr>\n",
       "            <tr>\n",
       "                                <td id=\"T_f87368ea_0fbf_11ed_99db_acde48001122row3_col0\" class=\"data row3 col0\" >AbbVie Inc.</td>\n",
       "                        <td id=\"T_f87368ea_0fbf_11ed_99db_acde48001122row3_col1\" class=\"data row3 col1\" >6123</td>\n",
       "                        <td id=\"T_f87368ea_0fbf_11ed_99db_acde48001122row3_col2\" class=\"data row3 col2\" >108</td>\n",
       "                        <td id=\"T_f87368ea_0fbf_11ed_99db_acde48001122row3_col3\" class=\"data row3 col3\" >1.8%</td>\n",
       "                        <td id=\"T_f87368ea_0fbf_11ed_99db_acde48001122row3_col4\" class=\"data row3 col4\" >78</td>\n",
       "                        <td id=\"T_f87368ea_0fbf_11ed_99db_acde48001122row3_col5\" class=\"data row3 col5\" >1.3%</td>\n",
       "            </tr>\n",
       "            <tr>\n",
       "                                <td id=\"T_f87368ea_0fbf_11ed_99db_acde48001122row4_col0\" class=\"data row4 col0\" >Moderna, Inc.</td>\n",
       "                        <td id=\"T_f87368ea_0fbf_11ed_99db_acde48001122row4_col1\" class=\"data row4 col1\" >5096</td>\n",
       "                        <td id=\"T_f87368ea_0fbf_11ed_99db_acde48001122row4_col2\" class=\"data row4 col2\" >58</td>\n",
       "                        <td id=\"T_f87368ea_0fbf_11ed_99db_acde48001122row4_col3\" class=\"data row4 col3\" >1.1%</td>\n",
       "                        <td id=\"T_f87368ea_0fbf_11ed_99db_acde48001122row4_col4\" class=\"data row4 col4\" >46</td>\n",
       "                        <td id=\"T_f87368ea_0fbf_11ed_99db_acde48001122row4_col5\" class=\"data row4 col5\" >0.9%</td>\n",
       "            </tr>\n",
       "    </tbody></table>"
      ],
      "text/plain": [
       "<pandas.io.formats.style.Styler at 0x7fae20e710d0>"
      ]
     },
     "execution_count": 35,
     "metadata": {},
     "output_type": "execute_result"
    }
   ],
   "source": [
    "sentiment7.style.hide_index().set_properties(subset=['Positive Words Frequency','Negative Words Frequency'], \n",
    "**{'font-weight': 'bold'}).set_caption('Item 7 Sentiment Word Count').set_table_styles(styles)"
   ]
  },
  {
   "cell_type": "code",
   "execution_count": 36,
   "metadata": {},
   "outputs": [],
   "source": [
    "sentiment_total=sentiment1a.add(sentiment7)\n",
    "sentiment_total['Company']=company\n",
    "sentiment_total['Positive Words Frequency']=(sentiment_total['Positive Words']\n",
    "                                             /sentiment_total['Total w/o Stop Words']).map('{:.1%}'.format)\n",
    "sentiment_total['Negative Words Frequency']=(sentiment_total['Negative Words']\n",
    "                                             /sentiment_total['Total w/o Stop Words']).map('{:.1%}'.format)"
   ]
  },
  {
   "cell_type": "markdown",
   "metadata": {},
   "source": []
  },
  {
   "cell_type": "markdown",
   "metadata": {},
   "source": []
  },
  {
   "cell_type": "markdown",
   "metadata": {},
   "source": []
  },
  {
   "cell_type": "markdown",
   "metadata": {},
   "source": []
  },
  {
   "cell_type": "markdown",
   "metadata": {},
   "source": []
  },
  {
   "cell_type": "code",
   "execution_count": 37,
   "metadata": {
    "scrolled": true
   },
   "outputs": [
    {
     "data": {
      "text/html": [
       "<style  type=\"text/css\" >\n",
       "    #T_f87632c8_0fbf_11ed_99db_acde48001122 caption {\n",
       "          text-align: center;\n",
       "          font-size: 100%;\n",
       "          color: black;\n",
       "          font-weight: bold;\n",
       "    }#T_f87632c8_0fbf_11ed_99db_acde48001122row0_col3,#T_f87632c8_0fbf_11ed_99db_acde48001122row0_col5,#T_f87632c8_0fbf_11ed_99db_acde48001122row1_col3,#T_f87632c8_0fbf_11ed_99db_acde48001122row1_col5,#T_f87632c8_0fbf_11ed_99db_acde48001122row2_col3,#T_f87632c8_0fbf_11ed_99db_acde48001122row2_col5,#T_f87632c8_0fbf_11ed_99db_acde48001122row3_col3,#T_f87632c8_0fbf_11ed_99db_acde48001122row3_col5,#T_f87632c8_0fbf_11ed_99db_acde48001122row4_col3,#T_f87632c8_0fbf_11ed_99db_acde48001122row4_col5{\n",
       "            font-weight:  bold;\n",
       "        }</style><table id=\"T_f87632c8_0fbf_11ed_99db_acde48001122\" ><caption>Total Sentiment Word Count</caption><thead>    <tr>        <th class=\"col_heading level0 col0\" >Company</th>        <th class=\"col_heading level0 col1\" >Total w/o Stop Words</th>        <th class=\"col_heading level0 col2\" >Positive Words</th>        <th class=\"col_heading level0 col3\" >Positive Words Frequency</th>        <th class=\"col_heading level0 col4\" >Negative Words</th>        <th class=\"col_heading level0 col5\" >Negative Words Frequency</th>    </tr></thead><tbody>\n",
       "                <tr>\n",
       "                                <td id=\"T_f87632c8_0fbf_11ed_99db_acde48001122row0_col0\" class=\"data row0 col0\" >Moderna, Inc.</td>\n",
       "                        <td id=\"T_f87632c8_0fbf_11ed_99db_acde48001122row0_col1\" class=\"data row0 col1\" >22568</td>\n",
       "                        <td id=\"T_f87632c8_0fbf_11ed_99db_acde48001122row0_col2\" class=\"data row0 col2\" >511</td>\n",
       "                        <td id=\"T_f87632c8_0fbf_11ed_99db_acde48001122row0_col3\" class=\"data row0 col3\" >2.3%</td>\n",
       "                        <td id=\"T_f87632c8_0fbf_11ed_99db_acde48001122row0_col4\" class=\"data row0 col4\" >1337</td>\n",
       "                        <td id=\"T_f87632c8_0fbf_11ed_99db_acde48001122row0_col5\" class=\"data row0 col5\" >5.9%</td>\n",
       "            </tr>\n",
       "            <tr>\n",
       "                                <td id=\"T_f87632c8_0fbf_11ed_99db_acde48001122row1_col0\" class=\"data row1 col0\" >Eli Lilly and Company</td>\n",
       "                        <td id=\"T_f87632c8_0fbf_11ed_99db_acde48001122row1_col1\" class=\"data row1 col1\" >9850</td>\n",
       "                        <td id=\"T_f87632c8_0fbf_11ed_99db_acde48001122row1_col2\" class=\"data row1 col2\" >162</td>\n",
       "                        <td id=\"T_f87632c8_0fbf_11ed_99db_acde48001122row1_col3\" class=\"data row1 col3\" >1.6%</td>\n",
       "                        <td id=\"T_f87632c8_0fbf_11ed_99db_acde48001122row1_col4\" class=\"data row1 col4\" >502</td>\n",
       "                        <td id=\"T_f87632c8_0fbf_11ed_99db_acde48001122row1_col5\" class=\"data row1 col5\" >5.1%</td>\n",
       "            </tr>\n",
       "            <tr>\n",
       "                                <td id=\"T_f87632c8_0fbf_11ed_99db_acde48001122row2_col0\" class=\"data row2 col0\" >Johnson & Johnson</td>\n",
       "                        <td id=\"T_f87632c8_0fbf_11ed_99db_acde48001122row2_col1\" class=\"data row2 col1\" >10316</td>\n",
       "                        <td id=\"T_f87632c8_0fbf_11ed_99db_acde48001122row2_col2\" class=\"data row2 col2\" >191</td>\n",
       "                        <td id=\"T_f87632c8_0fbf_11ed_99db_acde48001122row2_col3\" class=\"data row2 col3\" >1.9%</td>\n",
       "                        <td id=\"T_f87632c8_0fbf_11ed_99db_acde48001122row2_col4\" class=\"data row2 col4\" >428</td>\n",
       "                        <td id=\"T_f87632c8_0fbf_11ed_99db_acde48001122row2_col5\" class=\"data row2 col5\" >4.1%</td>\n",
       "            </tr>\n",
       "            <tr>\n",
       "                                <td id=\"T_f87632c8_0fbf_11ed_99db_acde48001122row3_col0\" class=\"data row3 col0\" >Pfizer Inc.</td>\n",
       "                        <td id=\"T_f87632c8_0fbf_11ed_99db_acde48001122row3_col1\" class=\"data row3 col1\" >16685</td>\n",
       "                        <td id=\"T_f87632c8_0fbf_11ed_99db_acde48001122row3_col2\" class=\"data row3 col2\" >290</td>\n",
       "                        <td id=\"T_f87632c8_0fbf_11ed_99db_acde48001122row3_col3\" class=\"data row3 col3\" >1.7%</td>\n",
       "                        <td id=\"T_f87632c8_0fbf_11ed_99db_acde48001122row3_col4\" class=\"data row3 col4\" >643</td>\n",
       "                        <td id=\"T_f87632c8_0fbf_11ed_99db_acde48001122row3_col5\" class=\"data row3 col5\" >3.9%</td>\n",
       "            </tr>\n",
       "            <tr>\n",
       "                                <td id=\"T_f87632c8_0fbf_11ed_99db_acde48001122row4_col0\" class=\"data row4 col0\" >AbbVie Inc.</td>\n",
       "                        <td id=\"T_f87632c8_0fbf_11ed_99db_acde48001122row4_col1\" class=\"data row4 col1\" >11065</td>\n",
       "                        <td id=\"T_f87632c8_0fbf_11ed_99db_acde48001122row4_col2\" class=\"data row4 col2\" >194</td>\n",
       "                        <td id=\"T_f87632c8_0fbf_11ed_99db_acde48001122row4_col3\" class=\"data row4 col3\" >1.8%</td>\n",
       "                        <td id=\"T_f87632c8_0fbf_11ed_99db_acde48001122row4_col4\" class=\"data row4 col4\" >382</td>\n",
       "                        <td id=\"T_f87632c8_0fbf_11ed_99db_acde48001122row4_col5\" class=\"data row4 col5\" >3.5%</td>\n",
       "            </tr>\n",
       "    </tbody></table>"
      ],
      "text/plain": [
       "<pandas.io.formats.style.Styler at 0x7fae010cd4f0>"
      ]
     },
     "execution_count": 37,
     "metadata": {},
     "output_type": "execute_result"
    }
   ],
   "source": [
    "sentiment_total.sort_values(by=['Negative Words Frequency'], ascending=False).style.hide_index().set_properties(\n",
    "                            subset=['Positive Words Frequency','Negative Words Frequency'], \n",
    "**{'font-weight': 'bold'}).set_caption('Total Sentiment Word Count').set_table_styles(styles)"
   ]
  },
  {
   "cell_type": "markdown",
   "metadata": {},
   "source": [
    "### C) Conclusion"
   ]
  },
  {
   "cell_type": "markdown",
   "metadata": {},
   "source": [
    "With the range of Positive Words Frequency being much narrower than that of Negative Words Frequency among the five companies, Negative Words Frequency serves as a differentiator in the tones of the 10-k financial reports. \n",
    "\n",
    "Overall, Moderna, Inc. ranks highest in frequency of negative words, followed by Eli Lilly and Company, Johnson & Johnson, Pfizer Inc. and AbbVie Inc. However, for the individual items, Eli Lilly and Company ranks highest instead. It appears Moderna's high overall ranking is mostly attributable to high negative words frequency in item 1A.\n",
    "\n",
    "Zooming in on item 7, which discusses the company's annual performance in greater detail than item 1A, Eli Lilly and Company, Pfizer Inc. and Johnson and Johnson's reports are worth a more in-depth read as their tones indicate more negative sentiments than the rest. \n",
    "\n",
    "We will shed more light on this analysis in section II, higlighting the sentiment words that appear most frequently and the sentences they belong to."
   ]
  },
  {
   "cell_type": "markdown",
   "metadata": {},
   "source": []
  },
  {
   "cell_type": "markdown",
   "metadata": {},
   "source": [
    "## III. Identification of Most Frequent Sentiment Words"
   ]
  },
  {
   "cell_type": "markdown",
   "metadata": {},
   "source": [
    "### **Combine positive and negative words into one sentiment word list**"
   ]
  },
  {
   "cell_type": "code",
   "execution_count": 38,
   "metadata": {},
   "outputs": [],
   "source": [
    "sent_word_ls=neg_words_ls+pos_words_ls"
   ]
  },
  {
   "cell_type": "markdown",
   "metadata": {},
   "source": [
    "### **Retrieve 10 most frequently appearing sentiment words in item 1A and 7 as dictionaries**"
   ]
  },
  {
   "cell_type": "code",
   "execution_count": 39,
   "metadata": {},
   "outputs": [],
   "source": [
    "def top_10_sent_words(item_dict, ticker):\n",
    "    sent_word_dict={}\n",
    "    for i in range(0, len(sent_word_ls)):\n",
    "        sent_word_dict[sent_word_ls[i]]=word_tokenize(item_dict[ticker]).count(sent_word_ls[i])\n",
    "    sent_word_dict={k: v for k, v in sorted(sent_word_dict.items(), key=lambda item: item[1])}\n",
    "    top10ls=list(sent_word_dict)[-10:]\n",
    "    top10={}\n",
    "    for i in range(0, len(top10ls)):\n",
    "        top10[top10ls[i]]=sent_word_dict[top10ls[i]]\n",
    "    return top10"
   ]
  },
  {
   "cell_type": "code",
   "execution_count": 40,
   "metadata": {},
   "outputs": [],
   "source": [
    "top10pfe_1a=top_10_sent_words(item1A_nsw_dict, 'pfe')\n",
    "top10mrna_1a=top_10_sent_words(item1A_nsw_dict, 'mrna')\n",
    "top10jnj_1a=top_10_sent_words(item1A_nsw_dict, 'jnj')\n",
    "top10lly_1a=top_10_sent_words(item1A_nsw_dict, 'lly')\n",
    "top10abbv_1a=top_10_sent_words(item1A_nsw_dict, 'abbv')\n",
    "top10pfe_7=top_10_sent_words(item7_nsw_dict, 'pfe')\n",
    "top10mrna_7=top_10_sent_words(item7_nsw_dict, 'mrna')\n",
    "top10jnj_7=top_10_sent_words(item7_nsw_dict, 'jnj')\n",
    "top10lly_7=top_10_sent_words(item7_nsw_dict, 'lly')\n",
    "top10abbv_7=top_10_sent_words(item7_nsw_dict, 'abbv')"
   ]
  },
  {
   "cell_type": "markdown",
   "metadata": {},
   "source": [
    "### **Compile all dictionaries into a Dataframe**"
   ]
  },
  {
   "cell_type": "code",
   "execution_count": 41,
   "metadata": {},
   "outputs": [],
   "source": [
    "top101adict_ls=[top10pfe_1a, top10mrna_1a, top10jnj_1a, top10lly_1a, top10abbv_1a]\n",
    "top107dict_ls=[top10pfe_7, top10mrna_7, top10jnj_7, top10lly_7, top10abbv_7]"
   ]
  },
  {
   "cell_type": "code",
   "execution_count": 42,
   "metadata": {},
   "outputs": [],
   "source": [
    "def top_10_dict(company_name, dict):\n",
    "    name_sr=pd.Series([company_name]*10)\n",
    "    top10df=pd.DataFrame(dict.items(), columns=['Sentiment Word', 'Frequency'])\n",
    "    top10df['Sentiment Word']=top10df['Sentiment Word'].str.capitalize()\n",
    "    top10df=top10df.sort_values(['Frequency'], ascending=False).reset_index(drop=True)\n",
    "    return top10df"
   ]
  },
  {
   "cell_type": "code",
   "execution_count": 43,
   "metadata": {},
   "outputs": [],
   "source": [
    "def top10_df(item_dict_ls,item_str):\n",
    "    df1 = top_10_dict(company_ls[0], item_dict_ls[0])\n",
    "    df2 = top_10_dict(company_ls[1], item_dict_ls[1])\n",
    "    df3 = top_10_dict(company_ls[2], item_dict_ls[2])\n",
    "    df4 = top_10_dict(company_ls[3], item_dict_ls[3])\n",
    "    df5 = top_10_dict(company_ls[4], item_dict_ls[4])\n",
    "    df1_style = df1.style.hide_index().set_table_attributes(\"style='display:inline; margin-right:20px;'\")\n",
    "                .set_caption(item_str+str(company_ls[0])).set_table_styles(styles)\n",
    "    df2_style = df2.style.hide_index().set_table_attributes(\"style='display:inline; margin-right:20px;'\")\n",
    "                .set_caption(item_str+str(company_ls[1])).set_table_styles(styles)\n",
    "    df3_style = df3.style.hide_index().set_table_attributes(\"style='display:inline; margin-right:20px;'\")\n",
    "                .set_caption(item_str+str(company_ls[2])).set_table_styles(styles)\n",
    "    df4_style = df4.style.hide_index().set_table_attributes(\"style='display:inline; margin-right:20px;'\")\n",
    "                .set_caption(item_str+str(company_ls[3])).set_table_styles(styles)\n",
    "    df5_style = df5.style.hide_index().set_table_attributes(\"style='display:inline'\")\n",
    "                .set_caption(item_str+ str(company_ls[4])).set_table_styles(styles)\n",
    "    return display_html(df1_style._repr_html_() + df2_style._repr_html_() + df3_style._repr_html_() \n",
    "                 + df4_style._repr_html_() + df5_style._repr_html_(), raw=True)"
   ]
  },
  {
   "cell_type": "markdown",
   "metadata": {},
   "source": [
    "### **Top 10 Most Frequent Sentiment Words**"
   ]
  },
  {
   "cell_type": "code",
   "execution_count": 44,
   "metadata": {
    "scrolled": true
   },
   "outputs": [
    {
     "data": {
      "text/html": [
       "<style  type=\"text/css\" >\n",
       "    #T_bce35e82_0fc1_11ed_99db_acde48001122 caption {\n",
       "          text-align: center;\n",
       "          font-size: 100%;\n",
       "          color: black;\n",
       "          font-weight: bold;\n",
       "    }</style><table id=\"T_bce35e82_0fc1_11ed_99db_acde48001122\" style='display:inline; margin-right:20px;'><caption>Item 1A - Pfizer Inc.</caption><thead>    <tr>        <th class=\"col_heading level0 col0\" >Sentiment Word</th>        <th class=\"col_heading level0 col1\" >Frequency</th>    </tr></thead><tbody>\n",
       "                <tr>\n",
       "                                <td id=\"T_bce35e82_0fc1_11ed_99db_acde48001122row0_col0\" class=\"data row0 col0\" >Challenges</td>\n",
       "                        <td id=\"T_bce35e82_0fc1_11ed_99db_acde48001122row0_col1\" class=\"data row0 col1\" >26</td>\n",
       "            </tr>\n",
       "            <tr>\n",
       "                                <td id=\"T_bce35e82_0fc1_11ed_99db_acde48001122row1_col0\" class=\"data row1 col0\" >Adversely</td>\n",
       "                        <td id=\"T_bce35e82_0fc1_11ed_99db_acde48001122row1_col1\" class=\"data row1 col1\" >20</td>\n",
       "            </tr>\n",
       "            <tr>\n",
       "                                <td id=\"T_bce35e82_0fc1_11ed_99db_acde48001122row2_col0\" class=\"data row2 col0\" >Claims</td>\n",
       "                        <td id=\"T_bce35e82_0fc1_11ed_99db_acde48001122row2_col1\" class=\"data row2 col1\" >18</td>\n",
       "            </tr>\n",
       "            <tr>\n",
       "                                <td id=\"T_bce35e82_0fc1_11ed_99db_acde48001122row3_col0\" class=\"data row3 col0\" >Litigation</td>\n",
       "                        <td id=\"T_bce35e82_0fc1_11ed_99db_acde48001122row3_col1\" class=\"data row3 col1\" >12</td>\n",
       "            </tr>\n",
       "            <tr>\n",
       "                                <td id=\"T_bce35e82_0fc1_11ed_99db_acde48001122row4_col0\" class=\"data row4 col0\" >Adverse</td>\n",
       "                        <td id=\"T_bce35e82_0fc1_11ed_99db_acde48001122row4_col1\" class=\"data row4 col1\" >11</td>\n",
       "            </tr>\n",
       "            <tr>\n",
       "                                <td id=\"T_bce35e82_0fc1_11ed_99db_acde48001122row5_col0\" class=\"data row5 col0\" >Disruptions</td>\n",
       "                        <td id=\"T_bce35e82_0fc1_11ed_99db_acde48001122row5_col1\" class=\"data row5 col1\" >11</td>\n",
       "            </tr>\n",
       "            <tr>\n",
       "                                <td id=\"T_bce35e82_0fc1_11ed_99db_acde48001122row6_col0\" class=\"data row6 col0\" >Delays</td>\n",
       "                        <td id=\"T_bce35e82_0fc1_11ed_99db_acde48001122row6_col1\" class=\"data row6 col1\" >10</td>\n",
       "            </tr>\n",
       "            <tr>\n",
       "                                <td id=\"T_bce35e82_0fc1_11ed_99db_acde48001122row7_col0\" class=\"data row7 col0\" >Fail</td>\n",
       "                        <td id=\"T_bce35e82_0fc1_11ed_99db_acde48001122row7_col1\" class=\"data row7 col1\" >10</td>\n",
       "            </tr>\n",
       "            <tr>\n",
       "                                <td id=\"T_bce35e82_0fc1_11ed_99db_acde48001122row8_col0\" class=\"data row8 col0\" >Loss</td>\n",
       "                        <td id=\"T_bce35e82_0fc1_11ed_99db_acde48001122row8_col1\" class=\"data row8 col1\" >10</td>\n",
       "            </tr>\n",
       "            <tr>\n",
       "                                <td id=\"T_bce35e82_0fc1_11ed_99db_acde48001122row9_col0\" class=\"data row9 col0\" >Able</td>\n",
       "                        <td id=\"T_bce35e82_0fc1_11ed_99db_acde48001122row9_col1\" class=\"data row9 col1\" >10</td>\n",
       "            </tr>\n",
       "    </tbody></table><style  type=\"text/css\" >\n",
       "    #T_bce39b18_0fc1_11ed_99db_acde48001122 caption {\n",
       "          text-align: center;\n",
       "          font-size: 100%;\n",
       "          color: black;\n",
       "          font-weight: bold;\n",
       "    }</style><table id=\"T_bce39b18_0fc1_11ed_99db_acde48001122\" style='display:inline; margin-right:20px;'><caption>Item 1A - Moderna, Inc.</caption><thead>    <tr>        <th class=\"col_heading level0 col0\" >Sentiment Word</th>        <th class=\"col_heading level0 col1\" >Frequency</th>    </tr></thead><tbody>\n",
       "                <tr>\n",
       "                                <td id=\"T_bce39b18_0fc1_11ed_99db_acde48001122row0_col0\" class=\"data row0 col0\" >Adversely</td>\n",
       "                        <td id=\"T_bce39b18_0fc1_11ed_99db_acde48001122row0_col1\" class=\"data row0 col1\" >71</td>\n",
       "            </tr>\n",
       "            <tr>\n",
       "                                <td id=\"T_bce39b18_0fc1_11ed_99db_acde48001122row1_col0\" class=\"data row1 col0\" >Collaborators</td>\n",
       "                        <td id=\"T_bce39b18_0fc1_11ed_99db_acde48001122row1_col1\" class=\"data row1 col1\" >55</td>\n",
       "            </tr>\n",
       "            <tr>\n",
       "                                <td id=\"T_bce39b18_0fc1_11ed_99db_acde48001122row2_col0\" class=\"data row2 col0\" >Adverse</td>\n",
       "                        <td id=\"T_bce39b18_0fc1_11ed_99db_acde48001122row2_col1\" class=\"data row2 col1\" >47</td>\n",
       "            </tr>\n",
       "            <tr>\n",
       "                                <td id=\"T_bce39b18_0fc1_11ed_99db_acde48001122row3_col0\" class=\"data row3 col0\" >Delays</td>\n",
       "                        <td id=\"T_bce39b18_0fc1_11ed_99db_acde48001122row3_col1\" class=\"data row3 col1\" >45</td>\n",
       "            </tr>\n",
       "            <tr>\n",
       "                                <td id=\"T_bce39b18_0fc1_11ed_99db_acde48001122row4_col0\" class=\"data row4 col0\" >Claims</td>\n",
       "                        <td id=\"T_bce39b18_0fc1_11ed_99db_acde48001122row4_col1\" class=\"data row4 col1\" >43</td>\n",
       "            </tr>\n",
       "            <tr>\n",
       "                                <td id=\"T_bce39b18_0fc1_11ed_99db_acde48001122row5_col0\" class=\"data row5 col0\" >Fail</td>\n",
       "                        <td id=\"T_bce39b18_0fc1_11ed_99db_acde48001122row5_col1\" class=\"data row5 col1\" >40</td>\n",
       "            </tr>\n",
       "            <tr>\n",
       "                                <td id=\"T_bce39b18_0fc1_11ed_99db_acde48001122row6_col0\" class=\"data row6 col0\" >Delay</td>\n",
       "                        <td id=\"T_bce39b18_0fc1_11ed_99db_acde48001122row6_col1\" class=\"data row6 col1\" >36</td>\n",
       "            </tr>\n",
       "            <tr>\n",
       "                                <td id=\"T_bce39b18_0fc1_11ed_99db_acde48001122row7_col0\" class=\"data row7 col0\" >Failure</td>\n",
       "                        <td id=\"T_bce39b18_0fc1_11ed_99db_acde48001122row7_col1\" class=\"data row7 col1\" >34</td>\n",
       "            </tr>\n",
       "            <tr>\n",
       "                                <td id=\"T_bce39b18_0fc1_11ed_99db_acde48001122row8_col0\" class=\"data row8 col0\" >Able</td>\n",
       "                        <td id=\"T_bce39b18_0fc1_11ed_99db_acde48001122row8_col1\" class=\"data row8 col1\" >32</td>\n",
       "            </tr>\n",
       "            <tr>\n",
       "                                <td id=\"T_bce39b18_0fc1_11ed_99db_acde48001122row9_col0\" class=\"data row9 col0\" >Litigation</td>\n",
       "                        <td id=\"T_bce39b18_0fc1_11ed_99db_acde48001122row9_col1\" class=\"data row9 col1\" >28</td>\n",
       "            </tr>\n",
       "    </tbody></table><style  type=\"text/css\" >\n",
       "    #T_bce3df60_0fc1_11ed_99db_acde48001122 caption {\n",
       "          text-align: center;\n",
       "          font-size: 100%;\n",
       "          color: black;\n",
       "          font-weight: bold;\n",
       "    }</style><table id=\"T_bce3df60_0fc1_11ed_99db_acde48001122\" style='display:inline; margin-right:20px;'><caption>Item 1A - Johnson & Johnson</caption><thead>    <tr>        <th class=\"col_heading level0 col0\" >Sentiment Word</th>        <th class=\"col_heading level0 col1\" >Frequency</th>    </tr></thead><tbody>\n",
       "                <tr>\n",
       "                                <td id=\"T_bce3df60_0fc1_11ed_99db_acde48001122row0_col0\" class=\"data row0 col0\" >Adversely</td>\n",
       "                        <td id=\"T_bce3df60_0fc1_11ed_99db_acde48001122row0_col1\" class=\"data row0 col1\" >23</td>\n",
       "            </tr>\n",
       "            <tr>\n",
       "                                <td id=\"T_bce3df60_0fc1_11ed_99db_acde48001122row1_col0\" class=\"data row1 col0\" >Litigation</td>\n",
       "                        <td id=\"T_bce3df60_0fc1_11ed_99db_acde48001122row1_col1\" class=\"data row1 col1\" >11</td>\n",
       "            </tr>\n",
       "            <tr>\n",
       "                                <td id=\"T_bce3df60_0fc1_11ed_99db_acde48001122row2_col0\" class=\"data row2 col0\" >Delays</td>\n",
       "                        <td id=\"T_bce3df60_0fc1_11ed_99db_acde48001122row2_col1\" class=\"data row2 col1\" >9</td>\n",
       "            </tr>\n",
       "            <tr>\n",
       "                                <td id=\"T_bce3df60_0fc1_11ed_99db_acde48001122row3_col0\" class=\"data row3 col0\" >Challenges</td>\n",
       "                        <td id=\"T_bce3df60_0fc1_11ed_99db_acde48001122row3_col1\" class=\"data row3 col1\" >8</td>\n",
       "            </tr>\n",
       "            <tr>\n",
       "                                <td id=\"T_bce3df60_0fc1_11ed_99db_acde48001122row4_col0\" class=\"data row4 col0\" >Negatively</td>\n",
       "                        <td id=\"T_bce3df60_0fc1_11ed_99db_acde48001122row4_col1\" class=\"data row4 col1\" >8</td>\n",
       "            </tr>\n",
       "            <tr>\n",
       "                                <td id=\"T_bce3df60_0fc1_11ed_99db_acde48001122row5_col0\" class=\"data row5 col0\" >Damage</td>\n",
       "                        <td id=\"T_bce3df60_0fc1_11ed_99db_acde48001122row5_col1\" class=\"data row5 col1\" >7</td>\n",
       "            </tr>\n",
       "            <tr>\n",
       "                                <td id=\"T_bce3df60_0fc1_11ed_99db_acde48001122row6_col0\" class=\"data row6 col0\" >Investigations</td>\n",
       "                        <td id=\"T_bce3df60_0fc1_11ed_99db_acde48001122row6_col1\" class=\"data row6 col1\" >7</td>\n",
       "            </tr>\n",
       "            <tr>\n",
       "                                <td id=\"T_bce3df60_0fc1_11ed_99db_acde48001122row7_col0\" class=\"data row7 col0\" >Loss</td>\n",
       "                        <td id=\"T_bce3df60_0fc1_11ed_99db_acde48001122row7_col1\" class=\"data row7 col1\" >7</td>\n",
       "            </tr>\n",
       "            <tr>\n",
       "                                <td id=\"T_bce3df60_0fc1_11ed_99db_acde48001122row8_col0\" class=\"data row8 col0\" >Successful</td>\n",
       "                        <td id=\"T_bce3df60_0fc1_11ed_99db_acde48001122row8_col1\" class=\"data row8 col1\" >7</td>\n",
       "            </tr>\n",
       "            <tr>\n",
       "                                <td id=\"T_bce3df60_0fc1_11ed_99db_acde48001122row9_col0\" class=\"data row9 col0\" >Effective</td>\n",
       "                        <td id=\"T_bce3df60_0fc1_11ed_99db_acde48001122row9_col1\" class=\"data row9 col1\" >6</td>\n",
       "            </tr>\n",
       "    </tbody></table><style  type=\"text/css\" >\n",
       "    #T_bce42b82_0fc1_11ed_99db_acde48001122 caption {\n",
       "          text-align: center;\n",
       "          font-size: 100%;\n",
       "          color: black;\n",
       "          font-weight: bold;\n",
       "    }</style><table id=\"T_bce42b82_0fc1_11ed_99db_acde48001122\" style='display:inline; margin-right:20px;'><caption>Item 1A - Eli Lilly and Company</caption><thead>    <tr>        <th class=\"col_heading level0 col0\" >Sentiment Word</th>        <th class=\"col_heading level0 col1\" >Frequency</th>    </tr></thead><tbody>\n",
       "                <tr>\n",
       "                                <td id=\"T_bce42b82_0fc1_11ed_99db_acde48001122row0_col0\" class=\"data row0 col0\" >Adversely</td>\n",
       "                        <td id=\"T_bce42b82_0fc1_11ed_99db_acde48001122row0_col1\" class=\"data row0 col1\" >21</td>\n",
       "            </tr>\n",
       "            <tr>\n",
       "                                <td id=\"T_bce42b82_0fc1_11ed_99db_acde48001122row1_col0\" class=\"data row1 col0\" >Litigation</td>\n",
       "                        <td id=\"T_bce42b82_0fc1_11ed_99db_acde48001122row1_col1\" class=\"data row1 col1\" >13</td>\n",
       "            </tr>\n",
       "            <tr>\n",
       "                                <td id=\"T_bce42b82_0fc1_11ed_99db_acde48001122row2_col0\" class=\"data row2 col0\" >Failure</td>\n",
       "                        <td id=\"T_bce42b82_0fc1_11ed_99db_acde48001122row2_col1\" class=\"data row2 col1\" >12</td>\n",
       "            </tr>\n",
       "            <tr>\n",
       "                                <td id=\"T_bce42b82_0fc1_11ed_99db_acde48001122row3_col0\" class=\"data row3 col0\" >Unauthorized</td>\n",
       "                        <td id=\"T_bce42b82_0fc1_11ed_99db_acde48001122row3_col1\" class=\"data row3 col1\" >9</td>\n",
       "            </tr>\n",
       "            <tr>\n",
       "                                <td id=\"T_bce42b82_0fc1_11ed_99db_acde48001122row4_col0\" class=\"data row4 col0\" >Claims</td>\n",
       "                        <td id=\"T_bce42b82_0fc1_11ed_99db_acde48001122row4_col1\" class=\"data row4 col1\" >8</td>\n",
       "            </tr>\n",
       "            <tr>\n",
       "                                <td id=\"T_bce42b82_0fc1_11ed_99db_acde48001122row5_col0\" class=\"data row5 col0\" >Successful</td>\n",
       "                        <td id=\"T_bce42b82_0fc1_11ed_99db_acde48001122row5_col1\" class=\"data row5 col1\" >8</td>\n",
       "            </tr>\n",
       "            <tr>\n",
       "                                <td id=\"T_bce42b82_0fc1_11ed_99db_acde48001122row6_col0\" class=\"data row6 col0\" >Disruption</td>\n",
       "                        <td id=\"T_bce42b82_0fc1_11ed_99db_acde48001122row6_col1\" class=\"data row6 col1\" >7</td>\n",
       "            </tr>\n",
       "            <tr>\n",
       "                                <td id=\"T_bce42b82_0fc1_11ed_99db_acde48001122row7_col0\" class=\"data row7 col0\" >Failures</td>\n",
       "                        <td id=\"T_bce42b82_0fc1_11ed_99db_acde48001122row7_col1\" class=\"data row7 col1\" >7</td>\n",
       "            </tr>\n",
       "            <tr>\n",
       "                                <td id=\"T_bce42b82_0fc1_11ed_99db_acde48001122row8_col0\" class=\"data row8 col0\" >Investigations</td>\n",
       "                        <td id=\"T_bce42b82_0fc1_11ed_99db_acde48001122row8_col1\" class=\"data row8 col1\" >7</td>\n",
       "            </tr>\n",
       "            <tr>\n",
       "                                <td id=\"T_bce42b82_0fc1_11ed_99db_acde48001122row9_col0\" class=\"data row9 col0\" >Loss</td>\n",
       "                        <td id=\"T_bce42b82_0fc1_11ed_99db_acde48001122row9_col1\" class=\"data row9 col1\" >7</td>\n",
       "            </tr>\n",
       "    </tbody></table><style  type=\"text/css\" >\n",
       "    #T_bce47ca4_0fc1_11ed_99db_acde48001122 caption {\n",
       "          text-align: center;\n",
       "          font-size: 100%;\n",
       "          color: black;\n",
       "          font-weight: bold;\n",
       "    }</style><table id=\"T_bce47ca4_0fc1_11ed_99db_acde48001122\" style='display:inline'><caption>Item 1A - AbbVie Inc.</caption><thead>    <tr>        <th class=\"col_heading level0 col0\" >Sentiment Word</th>        <th class=\"col_heading level0 col1\" >Frequency</th>    </tr></thead><tbody>\n",
       "                <tr>\n",
       "                                <td id=\"T_bce47ca4_0fc1_11ed_99db_acde48001122row0_col0\" class=\"data row0 col0\" >Adverse</td>\n",
       "                        <td id=\"T_bce47ca4_0fc1_11ed_99db_acde48001122row0_col1\" class=\"data row0 col1\" >27</td>\n",
       "            </tr>\n",
       "            <tr>\n",
       "                                <td id=\"T_bce47ca4_0fc1_11ed_99db_acde48001122row1_col0\" class=\"data row1 col0\" >Adversely</td>\n",
       "                        <td id=\"T_bce47ca4_0fc1_11ed_99db_acde48001122row1_col1\" class=\"data row1 col1\" >23</td>\n",
       "            </tr>\n",
       "            <tr>\n",
       "                                <td id=\"T_bce47ca4_0fc1_11ed_99db_acde48001122row2_col0\" class=\"data row2 col0\" >Failure</td>\n",
       "                        <td id=\"T_bce47ca4_0fc1_11ed_99db_acde48001122row2_col1\" class=\"data row2 col1\" >16</td>\n",
       "            </tr>\n",
       "            <tr>\n",
       "                                <td id=\"T_bce47ca4_0fc1_11ed_99db_acde48001122row3_col0\" class=\"data row3 col0\" >Successful</td>\n",
       "                        <td id=\"T_bce47ca4_0fc1_11ed_99db_acde48001122row3_col1\" class=\"data row3 col1\" >10</td>\n",
       "            </tr>\n",
       "            <tr>\n",
       "                                <td id=\"T_bce47ca4_0fc1_11ed_99db_acde48001122row4_col0\" class=\"data row4 col0\" >Impairment</td>\n",
       "                        <td id=\"T_bce47ca4_0fc1_11ed_99db_acde48001122row4_col1\" class=\"data row4 col1\" >9</td>\n",
       "            </tr>\n",
       "            <tr>\n",
       "                                <td id=\"T_bce47ca4_0fc1_11ed_99db_acde48001122row5_col0\" class=\"data row5 col0\" >Profitability</td>\n",
       "                        <td id=\"T_bce47ca4_0fc1_11ed_99db_acde48001122row5_col1\" class=\"data row5 col1\" >9</td>\n",
       "            </tr>\n",
       "            <tr>\n",
       "                                <td id=\"T_bce47ca4_0fc1_11ed_99db_acde48001122row6_col0\" class=\"data row6 col0\" >Loss</td>\n",
       "                        <td id=\"T_bce47ca4_0fc1_11ed_99db_acde48001122row6_col1\" class=\"data row6 col1\" >8</td>\n",
       "            </tr>\n",
       "            <tr>\n",
       "                                <td id=\"T_bce47ca4_0fc1_11ed_99db_acde48001122row7_col0\" class=\"data row7 col0\" >Negatively</td>\n",
       "                        <td id=\"T_bce47ca4_0fc1_11ed_99db_acde48001122row7_col1\" class=\"data row7 col1\" >7</td>\n",
       "            </tr>\n",
       "            <tr>\n",
       "                                <td id=\"T_bce47ca4_0fc1_11ed_99db_acde48001122row8_col0\" class=\"data row8 col0\" >Restated</td>\n",
       "                        <td id=\"T_bce47ca4_0fc1_11ed_99db_acde48001122row8_col1\" class=\"data row8 col1\" >7</td>\n",
       "            </tr>\n",
       "            <tr>\n",
       "                                <td id=\"T_bce47ca4_0fc1_11ed_99db_acde48001122row9_col0\" class=\"data row9 col0\" >Successfully</td>\n",
       "                        <td id=\"T_bce47ca4_0fc1_11ed_99db_acde48001122row9_col1\" class=\"data row9 col1\" >7</td>\n",
       "            </tr>\n",
       "    </tbody></table>"
      ]
     },
     "metadata": {},
     "output_type": "display_data"
    }
   ],
   "source": [
    "top10_df(top101adict_ls,\"Item 1A - \")"
   ]
  },
  {
   "cell_type": "code",
   "execution_count": 45,
   "metadata": {
    "scrolled": true
   },
   "outputs": [
    {
     "data": {
      "text/html": [
       "<style  type=\"text/css\" >\n",
       "    #T_bce7aeba_0fc1_11ed_99db_acde48001122 caption {\n",
       "          text-align: center;\n",
       "          font-size: 100%;\n",
       "          color: black;\n",
       "          font-weight: bold;\n",
       "    }</style><table id=\"T_bce7aeba_0fc1_11ed_99db_acde48001122\" style='display:inline; margin-right:20px;'><caption>Item 7 - Pfizer Inc.</caption><thead>    <tr>        <th class=\"col_heading level0 col0\" >Sentiment Word</th>        <th class=\"col_heading level0 col1\" >Frequency</th>    </tr></thead><tbody>\n",
       "                <tr>\n",
       "                                <td id=\"T_bce7aeba_0fc1_11ed_99db_acde48001122row0_col0\" class=\"data row0 col0\" >Benefit</td>\n",
       "                        <td id=\"T_bce7aeba_0fc1_11ed_99db_acde48001122row0_col1\" class=\"data row0 col1\" >25</td>\n",
       "            </tr>\n",
       "            <tr>\n",
       "                                <td id=\"T_bce7aeba_0fc1_11ed_99db_acde48001122row1_col0\" class=\"data row1 col0\" >Collaboration</td>\n",
       "                        <td id=\"T_bce7aeba_0fc1_11ed_99db_acde48001122row1_col1\" class=\"data row1 col1\" >23</td>\n",
       "            </tr>\n",
       "            <tr>\n",
       "                                <td id=\"T_bce7aeba_0fc1_11ed_99db_acde48001122row2_col0\" class=\"data row2 col0\" >Decline</td>\n",
       "                        <td id=\"T_bce7aeba_0fc1_11ed_99db_acde48001122row2_col1\" class=\"data row2 col1\" >19</td>\n",
       "            </tr>\n",
       "            <tr>\n",
       "                                <td id=\"T_bce7aeba_0fc1_11ed_99db_acde48001122row3_col0\" class=\"data row3 col0\" >Discontinued</td>\n",
       "                        <td id=\"T_bce7aeba_0fc1_11ed_99db_acde48001122row3_col1\" class=\"data row3 col1\" >19</td>\n",
       "            </tr>\n",
       "            <tr>\n",
       "                                <td id=\"T_bce7aeba_0fc1_11ed_99db_acde48001122row4_col0\" class=\"data row4 col0\" >Gains</td>\n",
       "                        <td id=\"T_bce7aeba_0fc1_11ed_99db_acde48001122row4_col1\" class=\"data row4 col1\" >19</td>\n",
       "            </tr>\n",
       "            <tr>\n",
       "                                <td id=\"T_bce7aeba_0fc1_11ed_99db_acde48001122row5_col0\" class=\"data row5 col0\" >Impairment</td>\n",
       "                        <td id=\"T_bce7aeba_0fc1_11ed_99db_acde48001122row5_col1\" class=\"data row5 col1\" >18</td>\n",
       "            </tr>\n",
       "            <tr>\n",
       "                                <td id=\"T_bce7aeba_0fc1_11ed_99db_acde48001122row6_col0\" class=\"data row6 col0\" >Restructuring</td>\n",
       "                        <td id=\"T_bce7aeba_0fc1_11ed_99db_acde48001122row6_col1\" class=\"data row6 col1\" >15</td>\n",
       "            </tr>\n",
       "            <tr>\n",
       "                                <td id=\"T_bce7aeba_0fc1_11ed_99db_acde48001122row7_col0\" class=\"data row7 col0\" >Losses</td>\n",
       "                        <td id=\"T_bce7aeba_0fc1_11ed_99db_acde48001122row7_col1\" class=\"data row7 col1\" >12</td>\n",
       "            </tr>\n",
       "            <tr>\n",
       "                                <td id=\"T_bce7aeba_0fc1_11ed_99db_acde48001122row8_col0\" class=\"data row8 col0\" >Greater</td>\n",
       "                        <td id=\"T_bce7aeba_0fc1_11ed_99db_acde48001122row8_col1\" class=\"data row8 col1\" >10</td>\n",
       "            </tr>\n",
       "            <tr>\n",
       "                                <td id=\"T_bce7aeba_0fc1_11ed_99db_acde48001122row9_col0\" class=\"data row9 col0\" >Unfavorable</td>\n",
       "                        <td id=\"T_bce7aeba_0fc1_11ed_99db_acde48001122row9_col1\" class=\"data row9 col1\" >9</td>\n",
       "            </tr>\n",
       "    </tbody></table><style  type=\"text/css\" >\n",
       "    #T_bce7e56a_0fc1_11ed_99db_acde48001122 caption {\n",
       "          text-align: center;\n",
       "          font-size: 100%;\n",
       "          color: black;\n",
       "          font-weight: bold;\n",
       "    }</style><table id=\"T_bce7e56a_0fc1_11ed_99db_acde48001122\" style='display:inline; margin-right:20px;'><caption>Item 7 - Moderna, Inc.</caption><thead>    <tr>        <th class=\"col_heading level0 col0\" >Sentiment Word</th>        <th class=\"col_heading level0 col1\" >Frequency</th>    </tr></thead><tbody>\n",
       "                <tr>\n",
       "                                <td id=\"T_bce7e56a_0fc1_11ed_99db_acde48001122row0_col0\" class=\"data row0 col0\" >Loss</td>\n",
       "                        <td id=\"T_bce7e56a_0fc1_11ed_99db_acde48001122row0_col1\" class=\"data row0 col1\" >8</td>\n",
       "            </tr>\n",
       "            <tr>\n",
       "                                <td id=\"T_bce7e56a_0fc1_11ed_99db_acde48001122row1_col0\" class=\"data row1 col0\" >Collaboration</td>\n",
       "                        <td id=\"T_bce7e56a_0fc1_11ed_99db_acde48001122row1_col1\" class=\"data row1 col1\" >8</td>\n",
       "            </tr>\n",
       "            <tr>\n",
       "                                <td id=\"T_bce7e56a_0fc1_11ed_99db_acde48001122row2_col0\" class=\"data row2 col0\" >Alliances</td>\n",
       "                        <td id=\"T_bce7e56a_0fc1_11ed_99db_acde48001122row2_col1\" class=\"data row2 col1\" >4</td>\n",
       "            </tr>\n",
       "            <tr>\n",
       "                                <td id=\"T_bce7e56a_0fc1_11ed_99db_acde48001122row3_col0\" class=\"data row3 col0\" >Benefit</td>\n",
       "                        <td id=\"T_bce7e56a_0fc1_11ed_99db_acde48001122row3_col1\" class=\"data row3 col1\" >4</td>\n",
       "            </tr>\n",
       "            <tr>\n",
       "                                <td id=\"T_bce7e56a_0fc1_11ed_99db_acde48001122row4_col0\" class=\"data row4 col0\" >Enable</td>\n",
       "                        <td id=\"T_bce7e56a_0fc1_11ed_99db_acde48001122row4_col1\" class=\"data row4 col1\" >4</td>\n",
       "            </tr>\n",
       "            <tr>\n",
       "                                <td id=\"T_bce7e56a_0fc1_11ed_99db_acde48001122row5_col0\" class=\"data row5 col0\" >Termination</td>\n",
       "                        <td id=\"T_bce7e56a_0fc1_11ed_99db_acde48001122row5_col1\" class=\"data row5 col1\" >3</td>\n",
       "            </tr>\n",
       "            <tr>\n",
       "                                <td id=\"T_bce7e56a_0fc1_11ed_99db_acde48001122row6_col0\" class=\"data row6 col0\" >Advances</td>\n",
       "                        <td id=\"T_bce7e56a_0fc1_11ed_99db_acde48001122row6_col1\" class=\"data row6 col1\" >3</td>\n",
       "            </tr>\n",
       "            <tr>\n",
       "                                <td id=\"T_bce7e56a_0fc1_11ed_99db_acde48001122row7_col0\" class=\"data row7 col0\" >Collaborators</td>\n",
       "                        <td id=\"T_bce7e56a_0fc1_11ed_99db_acde48001122row7_col1\" class=\"data row7 col1\" >3</td>\n",
       "            </tr>\n",
       "            <tr>\n",
       "                                <td id=\"T_bce7e56a_0fc1_11ed_99db_acde48001122row8_col0\" class=\"data row8 col0\" >Effective</td>\n",
       "                        <td id=\"T_bce7e56a_0fc1_11ed_99db_acde48001122row8_col1\" class=\"data row8 col1\" >3</td>\n",
       "            </tr>\n",
       "            <tr>\n",
       "                                <td id=\"T_bce7e56a_0fc1_11ed_99db_acde48001122row9_col0\" class=\"data row9 col0\" >Progress</td>\n",
       "                        <td id=\"T_bce7e56a_0fc1_11ed_99db_acde48001122row9_col1\" class=\"data row9 col1\" >3</td>\n",
       "            </tr>\n",
       "    </tbody></table><style  type=\"text/css\" >\n",
       "    #T_bce81530_0fc1_11ed_99db_acde48001122 caption {\n",
       "          text-align: center;\n",
       "          font-size: 100%;\n",
       "          color: black;\n",
       "          font-weight: bold;\n",
       "    }</style><table id=\"T_bce81530_0fc1_11ed_99db_acde48001122\" style='display:inline; margin-right:20px;'><caption>Item 7 - Johnson & Johnson</caption><thead>    <tr>        <th class=\"col_heading level0 col0\" >Sentiment Word</th>        <th class=\"col_heading level0 col1\" >Frequency</th>    </tr></thead><tbody>\n",
       "                <tr>\n",
       "                                <td id=\"T_bce81530_0fc1_11ed_99db_acde48001122row0_col0\" class=\"data row0 col0\" >Loss</td>\n",
       "                        <td id=\"T_bce81530_0fc1_11ed_99db_acde48001122row0_col1\" class=\"data row0 col1\" >16</td>\n",
       "            </tr>\n",
       "            <tr>\n",
       "                                <td id=\"T_bce81530_0fc1_11ed_99db_acde48001122row1_col0\" class=\"data row1 col0\" >Gains</td>\n",
       "                        <td id=\"T_bce81530_0fc1_11ed_99db_acde48001122row1_col1\" class=\"data row1 col1\" >13</td>\n",
       "            </tr>\n",
       "            <tr>\n",
       "                                <td id=\"T_bce81530_0fc1_11ed_99db_acde48001122row2_col0\" class=\"data row2 col0\" >Losses</td>\n",
       "                        <td id=\"T_bce81530_0fc1_11ed_99db_acde48001122row2_col1\" class=\"data row2 col1\" >12</td>\n",
       "            </tr>\n",
       "            <tr>\n",
       "                                <td id=\"T_bce81530_0fc1_11ed_99db_acde48001122row3_col0\" class=\"data row3 col0\" >Achieved</td>\n",
       "                        <td id=\"T_bce81530_0fc1_11ed_99db_acde48001122row3_col1\" class=\"data row3 col1\" >12</td>\n",
       "            </tr>\n",
       "            <tr>\n",
       "                                <td id=\"T_bce81530_0fc1_11ed_99db_acde48001122row4_col0\" class=\"data row4 col0\" >Litigation</td>\n",
       "                        <td id=\"T_bce81530_0fc1_11ed_99db_acde48001122row4_col1\" class=\"data row4 col1\" >11</td>\n",
       "            </tr>\n",
       "            <tr>\n",
       "                                <td id=\"T_bce81530_0fc1_11ed_99db_acde48001122row5_col0\" class=\"data row5 col0\" >Benefit</td>\n",
       "                        <td id=\"T_bce81530_0fc1_11ed_99db_acde48001122row5_col1\" class=\"data row5 col1\" >11</td>\n",
       "            </tr>\n",
       "            <tr>\n",
       "                                <td id=\"T_bce81530_0fc1_11ed_99db_acde48001122row6_col0\" class=\"data row6 col0\" >Positive</td>\n",
       "                        <td id=\"T_bce81530_0fc1_11ed_99db_acde48001122row6_col1\" class=\"data row6 col1\" >10</td>\n",
       "            </tr>\n",
       "            <tr>\n",
       "                                <td id=\"T_bce81530_0fc1_11ed_99db_acde48001122row7_col0\" class=\"data row7 col0\" >Doubtful</td>\n",
       "                        <td id=\"T_bce81530_0fc1_11ed_99db_acde48001122row7_col1\" class=\"data row7 col1\" >8</td>\n",
       "            </tr>\n",
       "            <tr>\n",
       "                                <td id=\"T_bce81530_0fc1_11ed_99db_acde48001122row8_col0\" class=\"data row8 col0\" >Negative</td>\n",
       "                        <td id=\"T_bce81530_0fc1_11ed_99db_acde48001122row8_col1\" class=\"data row8 col1\" >7</td>\n",
       "            </tr>\n",
       "            <tr>\n",
       "                                <td id=\"T_bce81530_0fc1_11ed_99db_acde48001122row9_col0\" class=\"data row9 col0\" >Strong</td>\n",
       "                        <td id=\"T_bce81530_0fc1_11ed_99db_acde48001122row9_col1\" class=\"data row9 col1\" >7</td>\n",
       "            </tr>\n",
       "    </tbody></table><style  type=\"text/css\" >\n",
       "    #T_bce85b08_0fc1_11ed_99db_acde48001122 caption {\n",
       "          text-align: center;\n",
       "          font-size: 100%;\n",
       "          color: black;\n",
       "          font-weight: bold;\n",
       "    }</style><table id=\"T_bce85b08_0fc1_11ed_99db_acde48001122\" style='display:inline; margin-right:20px;'><caption>Item 7 - Eli Lilly and Company</caption><thead>    <tr>        <th class=\"col_heading level0 col0\" >Sentiment Word</th>        <th class=\"col_heading level0 col1\" >Frequency</th>    </tr></thead><tbody>\n",
       "                <tr>\n",
       "                                <td id=\"T_bce85b08_0fc1_11ed_99db_acde48001122row0_col0\" class=\"data row0 col0\" >Impairment</td>\n",
       "                        <td id=\"T_bce85b08_0fc1_11ed_99db_acde48001122row0_col1\" class=\"data row0 col1\" >17</td>\n",
       "            </tr>\n",
       "            <tr>\n",
       "                                <td id=\"T_bce85b08_0fc1_11ed_99db_acde48001122row1_col0\" class=\"data row1 col0\" >Benefit</td>\n",
       "                        <td id=\"T_bce85b08_0fc1_11ed_99db_acde48001122row1_col1\" class=\"data row1 col1\" >17</td>\n",
       "            </tr>\n",
       "            <tr>\n",
       "                                <td id=\"T_bce85b08_0fc1_11ed_99db_acde48001122row2_col0\" class=\"data row2 col0\" >Loss</td>\n",
       "                        <td id=\"T_bce85b08_0fc1_11ed_99db_acde48001122row2_col1\" class=\"data row2 col1\" >10</td>\n",
       "            </tr>\n",
       "            <tr>\n",
       "                                <td id=\"T_bce85b08_0fc1_11ed_99db_acde48001122row3_col0\" class=\"data row3 col0\" >Litigation</td>\n",
       "                        <td id=\"T_bce85b08_0fc1_11ed_99db_acde48001122row3_col1\" class=\"data row3 col1\" >9</td>\n",
       "            </tr>\n",
       "            <tr>\n",
       "                                <td id=\"T_bce85b08_0fc1_11ed_99db_acde48001122row4_col0\" class=\"data row4 col0\" >Adversely</td>\n",
       "                        <td id=\"T_bce85b08_0fc1_11ed_99db_acde48001122row4_col1\" class=\"data row4 col1\" >8</td>\n",
       "            </tr>\n",
       "            <tr>\n",
       "                                <td id=\"T_bce85b08_0fc1_11ed_99db_acde48001122row5_col0\" class=\"data row5 col0\" >Failure</td>\n",
       "                        <td id=\"T_bce85b08_0fc1_11ed_99db_acde48001122row5_col1\" class=\"data row5 col1\" >8</td>\n",
       "            </tr>\n",
       "            <tr>\n",
       "                                <td id=\"T_bce85b08_0fc1_11ed_99db_acde48001122row6_col0\" class=\"data row6 col0\" >Exclusivity</td>\n",
       "                        <td id=\"T_bce85b08_0fc1_11ed_99db_acde48001122row6_col1\" class=\"data row6 col1\" >7</td>\n",
       "            </tr>\n",
       "            <tr>\n",
       "                                <td id=\"T_bce85b08_0fc1_11ed_99db_acde48001122row7_col0\" class=\"data row7 col0\" >Severe</td>\n",
       "                        <td id=\"T_bce85b08_0fc1_11ed_99db_acde48001122row7_col1\" class=\"data row7 col1\" >6</td>\n",
       "            </tr>\n",
       "            <tr>\n",
       "                                <td id=\"T_bce85b08_0fc1_11ed_99db_acde48001122row8_col0\" class=\"data row8 col0\" >Favorable</td>\n",
       "                        <td id=\"T_bce85b08_0fc1_11ed_99db_acde48001122row8_col1\" class=\"data row8 col1\" >6</td>\n",
       "            </tr>\n",
       "            <tr>\n",
       "                                <td id=\"T_bce85b08_0fc1_11ed_99db_acde48001122row9_col0\" class=\"data row9 col0\" >Gains</td>\n",
       "                        <td id=\"T_bce85b08_0fc1_11ed_99db_acde48001122row9_col1\" class=\"data row9 col1\" >6</td>\n",
       "            </tr>\n",
       "    </tbody></table><style  type=\"text/css\" >\n",
       "    #T_bce89b40_0fc1_11ed_99db_acde48001122 caption {\n",
       "          text-align: center;\n",
       "          font-size: 100%;\n",
       "          color: black;\n",
       "          font-weight: bold;\n",
       "    }</style><table id=\"T_bce89b40_0fc1_11ed_99db_acde48001122\" style='display:inline'><caption>Item 7 - AbbVie Inc.</caption><thead>    <tr>        <th class=\"col_heading level0 col0\" >Sentiment Word</th>        <th class=\"col_heading level0 col1\" >Frequency</th>    </tr></thead><tbody>\n",
       "                <tr>\n",
       "                                <td id=\"T_bce89b40_0fc1_11ed_99db_acde48001122row0_col0\" class=\"data row0 col0\" >Benefit</td>\n",
       "                        <td id=\"T_bce89b40_0fc1_11ed_99db_acde48001122row0_col1\" class=\"data row0 col1\" >18</td>\n",
       "            </tr>\n",
       "            <tr>\n",
       "                                <td id=\"T_bce89b40_0fc1_11ed_99db_acde48001122row1_col0\" class=\"data row1 col0\" >Collaboration</td>\n",
       "                        <td id=\"T_bce89b40_0fc1_11ed_99db_acde48001122row1_col1\" class=\"data row1 col1\" >10</td>\n",
       "            </tr>\n",
       "            <tr>\n",
       "                                <td id=\"T_bce89b40_0fc1_11ed_99db_acde48001122row2_col0\" class=\"data row2 col0\" >Strong</td>\n",
       "                        <td id=\"T_bce89b40_0fc1_11ed_99db_acde48001122row2_col1\" class=\"data row2 col1\" >10</td>\n",
       "            </tr>\n",
       "            <tr>\n",
       "                                <td id=\"T_bce89b40_0fc1_11ed_99db_acde48001122row3_col0\" class=\"data row3 col0\" >Loss</td>\n",
       "                        <td id=\"T_bce89b40_0fc1_11ed_99db_acde48001122row3_col1\" class=\"data row3 col1\" >9</td>\n",
       "            </tr>\n",
       "            <tr>\n",
       "                                <td id=\"T_bce89b40_0fc1_11ed_99db_acde48001122row4_col0\" class=\"data row4 col0\" >Severe</td>\n",
       "                        <td id=\"T_bce89b40_0fc1_11ed_99db_acde48001122row4_col1\" class=\"data row4 col1\" >9</td>\n",
       "            </tr>\n",
       "            <tr>\n",
       "                                <td id=\"T_bce89b40_0fc1_11ed_99db_acde48001122row5_col0\" class=\"data row5 col0\" >Impairment</td>\n",
       "                        <td id=\"T_bce89b40_0fc1_11ed_99db_acde48001122row5_col1\" class=\"data row5 col1\" >7</td>\n",
       "            </tr>\n",
       "            <tr>\n",
       "                                <td id=\"T_bce89b40_0fc1_11ed_99db_acde48001122row6_col0\" class=\"data row6 col0\" >Favorable</td>\n",
       "                        <td id=\"T_bce89b40_0fc1_11ed_99db_acde48001122row6_col1\" class=\"data row6 col1\" >7</td>\n",
       "            </tr>\n",
       "            <tr>\n",
       "                                <td id=\"T_bce89b40_0fc1_11ed_99db_acde48001122row7_col0\" class=\"data row7 col0\" >Inadequate</td>\n",
       "                        <td id=\"T_bce89b40_0fc1_11ed_99db_acde48001122row7_col1\" class=\"data row7 col1\" >6</td>\n",
       "            </tr>\n",
       "            <tr>\n",
       "                                <td id=\"T_bce89b40_0fc1_11ed_99db_acde48001122row8_col0\" class=\"data row8 col0\" >Favorably</td>\n",
       "                        <td id=\"T_bce89b40_0fc1_11ed_99db_acde48001122row8_col1\" class=\"data row8 col1\" >6</td>\n",
       "            </tr>\n",
       "            <tr>\n",
       "                                <td id=\"T_bce89b40_0fc1_11ed_99db_acde48001122row9_col0\" class=\"data row9 col0\" >Effective</td>\n",
       "                        <td id=\"T_bce89b40_0fc1_11ed_99db_acde48001122row9_col1\" class=\"data row9 col1\" >5</td>\n",
       "            </tr>\n",
       "    </tbody></table>"
      ]
     },
     "metadata": {},
     "output_type": "display_data"
    }
   ],
   "source": [
    "top10_df(top107dict_ls,\"Item 7 - \")"
   ]
  },
  {
   "cell_type": "markdown",
   "metadata": {},
   "source": [
    "You may notice one or two of the top 10 most frequent sentiment words being of the same root word (i.e. \"adverse\" and \"adversely\"). This is due to lemmatization being skipped to save significant time on running this notebook. Regardless, the output still produces top 8-9 words. "
   ]
  },
  {
   "cell_type": "markdown",
   "metadata": {},
   "source": [
    "### **Conclusion**"
   ]
  },
  {
   "cell_type": "markdown",
   "metadata": {},
   "source": [
    " Item 1A tends to include more negative words because it discusses risk factors. This is consistent with the five companies. </mark> Item 7 shows a more diverse range of sentiments, with a more even split between positive and negative words. In conjunction with the quantitative comparison of sentiment words frequency in section I, searching for the most frequent sentiment words can lead to informative insight, with the following examples: \n",
    "    \n",
    "**AbbVie Inc., Item 1A** <br>\n",
    "\"Successful(ly)\", \"Adversely\"<br>\n",
    "&nbsp;&nbsp;&nbsp;&nbsp;&nbsp;&nbsp;&nbsp;The <b><u>successful</u></b> discovery, development, manufacturing and sale of biologics is a long, expensive and uncertain process. There are unique risks and uncertainties with biologics. For example, access to and supply of necessary biological materials, such as cell lines, may be limited and governmental regulations restrict access to and regulate the transport and use of such materials. In addition, the development, manufacturing and sale of biologics is subject to regulations that are often more complex and extensive than the regulations applicable to other pharmaceutical products...Biologics are also frequently costly to manufacture because production inputs are derived from living animal or plant material, and some biologics cannot be made synthetically. Failure to <b><u>successfully</u></b> discover, develop, manufacture and sell biologics—including Humira—could <b><u>adversely</u></b> impact AbbVie's business and results of operations.  \n",
    "\n",
    "**Pfizer Inc., Item 1A** <br>\n",
    "\"Litigation\", \"Loss\", \"Adversely\"<br>\n",
    "&nbsp;&nbsp;&nbsp;&nbsp;&nbsp;&nbsp;&nbsp;We recorded direct product and/or Alliance revenues of more than $1 billion for each of nine products that collectively accounted for 75% of our total revenues in 2022. In particular, Comirnaty/BNT162b2 accounted for 45% of our total revenues in 2022. For additional information, see Notes 1 and 17. If these products or any of our other major products were to experience <b><u>loss</u></b> of patent protection (if applicable), changes in prescription or vaccination growth rates, material product liability <b><u>litigation</u></b>, unexpected side effects or safety concerns, regulatory proceedings, negative publicity affecting doctor or patient confidence, pressure from existing competitive products, changes in labeling, pricing and access pressures or supply shortages or if a new, more effective product should be introduced, the <b><u>adverse</u></b> impact on our revenues could be significant.\n",
    "    \n",
    "    \n",
    "**Eli Lilly and Company, Item 7** <br>\n",
    "\"Exclusivity\", \"Favorable\", \"Loss\", \"Severe(ly)\" <br>\n",
    "&nbsp;&nbsp;&nbsp;&nbsp;&nbsp;&nbsp;&nbsp; Revenue of Alimta, a treatment for various cancers, decreased 2 percent in the U.S., driven by decreased volume, partially offset by higher realized prices. Revenue outside the U.S. decreased 22 percent, primarily driven by decreased volume due to the entry of generic competition in certain markets and, to a lesser extent, lower realized prices, partially offset by the <b><u>favorable</u></b> impact of foreign exchange rates. Following the <b><u>loss</u></b> of <b><u>exclusivity</u></b> in major European countries and Japan in June 2022, we faced, and remain exposed to, generic competition which has eroded revenue and is likely to continue to rapidly and <b><u>severely</u></b> erode revenue from current levels. In the U.S., we expect the limited entry of generic competition starting February 2022 and subsequent unlimited entry starting April 2022. We expect that the entry of generic competition following the <b><u>loss</u></b> of <b><u>exclusivity</u></b> in the U.S. will cause a rapid and <b><u>severe</u></b> decline in revenue.    \n",
    "\n",
    "**Moderna Inc., Item 7** <br>\n",
    "\"Advance\", \"Progress\" <br>\n",
    "&nbsp;&nbsp;&nbsp;&nbsp;&nbsp;&nbsp;&nbsp; We expect that research and development expenses will increase in 2022 as we continue to <b><u>progress</u></b> our indication expansion of mRNA-1273, and continue to develop our pipeline and <b><u>advance</u></b> our product candidates into later-stage development. In addition, we also expect to incur significant costs related to the development of variantspecific COVID-19 candidates and our next-generation COVID-19 vaccine candidate (mRNA-1283).\n",
    "  \n",
    "    \n",
    "**Johnson & Johnson, Item 7** <br>\n",
    "\"Achieved\", \"Positive\"  <br>\n",
    "&nbsp;&nbsp;&nbsp;&nbsp;&nbsp;&nbsp;&nbsp;In 2022, sales by companies in Europe <b><u>achieved</u></b> growth of 24.3% as compared to the prior year, which included operational growth of 20.7% and a <b><u>positive</u></b> currency impact of 3.6%. Sales by companies in the Western Hemisphere (excluding the U.S.) <b><u>achieved</u></b> growth of 7.8% as compared to the prior year, which included operational growth of 7.3% and a <b><u>positive</u></b> currency impact of 0.5%. Sales by companies in the Asia-Pacific, Africa region <b><u>achieved</u></b> growth of 14.1% as compared to the prior year, including operational growth of 11.4% and a <b><u>currency</u></b> impact of 2.7%. "
   ]
  },
  {
   "cell_type": "markdown",
   "metadata": {},
   "source": []
  }
 ],
 "metadata": {
  "accelerator": "GPU",
  "colab": {
   "collapsed_sections": [],
   "name": "Text Generation with TensorFlow, Keras and LSTM.ipynb",
   "provenance": []
  },
  "kernelspec": {
   "display_name": "Python 3",
   "language": "python",
   "name": "python3"
  },
  "language_info": {
   "codemirror_mode": {
    "name": "ipython",
    "version": 3
   },
   "file_extension": ".py",
   "mimetype": "text/x-python",
   "name": "python",
   "nbconvert_exporter": "python",
   "pygments_lexer": "ipython3",
   "version": "3.8.5"
  }
 },
 "nbformat": 4,
 "nbformat_minor": 1
}
